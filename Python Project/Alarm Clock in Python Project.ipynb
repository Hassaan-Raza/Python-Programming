{
 "cells": [
  {
   "cell_type": "code",
   "execution_count": null,
   "id": "38b05833-bfab-4362-b883-f753399c7b7b",
   "metadata": {},
   "outputs": [
    {
     "name": "stdin",
     "output_type": "stream",
     "text": [
      "Enter the time you want to set an alarm for (HH:MM:SSAM/PM):  03:15:50PM\n"
     ]
    },
    {
     "name": "stdout",
     "output_type": "stream",
     "text": [
      "Setting Alarm\n",
      "Current Time: 03:15:27 PM\n",
      "Alarm Time: 03:15:50 PM\n",
      "Current Time: 03:15:28 PM\n",
      "Alarm Time: 03:15:50 PM\n",
      "Current Time: 03:15:29 PM\n",
      "Alarm Time: 03:15:50 PM\n",
      "Current Time: 03:15:30 PM\n",
      "Alarm Time: 03:15:50 PM\n",
      "Current Time: 03:15:31 PM\n",
      "Alarm Time: 03:15:50 PM\n",
      "Current Time: 03:15:32 PM\n",
      "Alarm Time: 03:15:50 PM\n",
      "Current Time: 03:15:33 PM\n",
      "Alarm Time: 03:15:50 PM\n",
      "Current Time: 03:15:34 PM\n",
      "Alarm Time: 03:15:50 PM\n",
      "Current Time: 03:15:35 PM\n",
      "Alarm Time: 03:15:50 PM\n",
      "Current Time: 03:15:36 PM\n",
      "Alarm Time: 03:15:50 PM\n",
      "Current Time: 03:15:37 PM\n",
      "Alarm Time: 03:15:50 PM\n",
      "Current Time: 03:15:38 PM\n",
      "Alarm Time: 03:15:50 PM\n",
      "Current Time: 03:15:39 PM\n",
      "Alarm Time: 03:15:50 PM\n",
      "Current Time: 03:15:40 PM\n",
      "Alarm Time: 03:15:50 PM\n",
      "Current Time: 03:15:41 PM\n",
      "Alarm Time: 03:15:50 PM\n",
      "Current Time: 03:15:42 PM\n",
      "Alarm Time: 03:15:50 PM\n",
      "Current Time: 03:15:43 PM\n",
      "Alarm Time: 03:15:50 PM\n",
      "Current Time: 03:15:44 PM\n",
      "Alarm Time: 03:15:50 PM\n",
      "Current Time: 03:15:45 PM\n",
      "Alarm Time: 03:15:50 PM\n",
      "Current Time: 03:15:46 PM\n",
      "Alarm Time: 03:15:50 PM\n",
      "Current Time: 03:15:47 PM\n",
      "Alarm Time: 03:15:50 PM\n",
      "Current Time: 03:15:48 PM\n",
      "Alarm Time: 03:15:50 PM\n",
      "Current Time: 03:15:49 PM\n",
      "Alarm Time: 03:15:50 PM\n",
      "Current Time: 03:15:50 PM\n",
      "Alarm Time: 03:15:50 PM\n",
      "Wake Up\n"
     ]
    }
   ],
   "source": [
    "from datetime import datetime\n",
    "import time\n",
    "\n",
    "user_input = input(\"Enter the time you want to set an alarm for (HH:MM:SSAM/PM): \")\n",
    "time_hour = user_input[0:2]\n",
    "time_minutes = user_input[3:5]\n",
    "time_seconds = user_input[6:8]\n",
    "time_AMPM = user_input[8:11].upper()\n",
    "print(\"Setting Alarm\")\n",
    "\n",
    "while True:\n",
    "    time_now = datetime.now()\n",
    "    current_hour = time_now.strftime(\"%I\")\n",
    "    current_minutes = time_now.strftime(\"%M\")\n",
    "    current_seconds = time_now.strftime(\"%S\")\n",
    "    current_period = time_now.strftime(\"%p\")\n",
    "    \n",
    "    # Debugging print statements\n",
    "    print(f\"Current Time: {current_hour}:{current_minutes}:{current_seconds} {current_period}\")\n",
    "    print(f\"Alarm Time: {time_hour}:{time_minutes}:{time_seconds} {time_AMPM}\")\n",
    "    \n",
    "    if time_AMPM == current_period:\n",
    "        if time_hour == current_hour:\n",
    "            if time_minutes == current_minutes:\n",
    "                if time_seconds == current_seconds:\n",
    "                    print(\"Wake Up\")\n",
    "                    playsound('C:/Users/Administrator/audio.mp3') \n",
    "                    break\n",
    "    \n",
    "    time.sleep(1)  # Sleep for a second before checking again\n"
   ]
  },
  {
   "cell_type": "code",
   "execution_count": null,
   "id": "7f387a37-15ab-4806-baa1-e82ede125256",
   "metadata": {},
   "outputs": [],
   "source": []
  },
  {
   "cell_type": "code",
   "execution_count": null,
   "id": "28730fe7-d49a-432f-a266-8b6d34ad61cc",
   "metadata": {},
   "outputs": [],
   "source": []
  }
 ],
 "metadata": {
  "kernelspec": {
   "display_name": "Python 3 (ipykernel)",
   "language": "python",
   "name": "python3"
  },
  "language_info": {
   "codemirror_mode": {
    "name": "ipython",
    "version": 3
   },
   "file_extension": ".py",
   "mimetype": "text/x-python",
   "name": "python",
   "nbconvert_exporter": "python",
   "pygments_lexer": "ipython3",
   "version": "3.12.4"
  }
 },
 "nbformat": 4,
 "nbformat_minor": 5
}
