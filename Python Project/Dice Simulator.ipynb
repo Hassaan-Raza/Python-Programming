{
 "cells": [
  {
   "cell_type": "code",
   "execution_count": 14,
   "id": "7b607cdb-abca-43c3-81ce-702f477eb51a",
   "metadata": {},
   "outputs": [
    {
     "name": "stdout",
     "output_type": "stream",
     "text": [
      "Rolling Dice...\n",
      "1\n"
     ]
    },
    {
     "name": "stdin",
     "output_type": "stream",
     "text": [
      "Roll Dice again?(Yes/No):  No\n"
     ]
    }
   ],
   "source": [
    "import random\n",
    "\n",
    "\n",
    "while True:\n",
    "    print(\"Rolling Dice...\")\n",
    "    print(random.randint(1,6))\n",
    "    user=input(\"Roll Dice again?(Yes/No): \")\n",
    "    if user =='NO' or user=='no' or user=='No':\n",
    "        break;\n",
    "        print(\"Rolling Dice nomore\")"
   ]
  },
  {
   "cell_type": "code",
   "execution_count": null,
   "id": "2ee3ea58-0333-41c9-b669-c876401e2640",
   "metadata": {},
   "outputs": [],
   "source": []
  }
 ],
 "metadata": {
  "kernelspec": {
   "display_name": "Python 3 (ipykernel)",
   "language": "python",
   "name": "python3"
  },
  "language_info": {
   "codemirror_mode": {
    "name": "ipython",
    "version": 3
   },
   "file_extension": ".py",
   "mimetype": "text/x-python",
   "name": "python",
   "nbconvert_exporter": "python",
   "pygments_lexer": "ipython3",
   "version": "3.12.4"
  }
 },
 "nbformat": 4,
 "nbformat_minor": 5
}
