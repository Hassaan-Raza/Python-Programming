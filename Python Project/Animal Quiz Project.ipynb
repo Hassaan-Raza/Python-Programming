{
 "cells": [
  {
   "cell_type": "code",
   "execution_count": 2,
   "id": "54bc3b77-b2da-4526-950a-780ec65b5558",
   "metadata": {},
   "outputs": [
    {
     "name": "stdout",
     "output_type": "stream",
     "text": [
      "I have alot of breeds whose names are hard to pronounce. i love treats and being called a good boy.\n"
     ]
    },
    {
     "name": "stdin",
     "output_type": "stream",
     "text": [
      "What do you think the animal is?(Enter End to stop playing): dog\n"
     ]
    },
    {
     "name": "stdout",
     "output_type": "stream",
     "text": [
      "Thats Correct\n",
      "I have alot of breeds whose names are hard to pronounce. i love treats and being called a good boy.\n"
     ]
    },
    {
     "name": "stdin",
     "output_type": "stream",
     "text": [
      "What do you think the animal is?(Enter End to stop playing): End\n"
     ]
    },
    {
     "name": "stdout",
     "output_type": "stream",
     "text": [
      "GoodBye\n"
     ]
    }
   ],
   "source": [
    "import random\n",
    "\n",
    "animals=['lion','cow','cat','dog','sheep','mouse']\n",
    "description=['i have a glorious mane, i am the king','i like to eat grass and i am usually on a farm. I am also fat','I live in houses with my humans and destroy their things','I have alot of breeds whose names are hard to pronounce. i love treats and being called a good boy.','I am on a farm, i give alot of wool.','I like cheese and i live in houses']\n",
    "\n",
    "while True:\n",
    "    cpu = random.choice(animals)\n",
    "    index = animals.index(cpu)\n",
    "    desc = description[index]\n",
    "    print(desc)\n",
    "    user=input(\"What do you think the animal is?(Enter End to stop playing):\")\n",
    "    if user==cpu:\n",
    "        print(\"Thats Correct\")\n",
    "    elif user==\"End\":\n",
    "        print(\"GoodBye\")\n",
    "        break\n",
    "    else:\n",
    "        print(\"Thats Wrong. Try Again\")"
   ]
  },
  {
   "cell_type": "code",
   "execution_count": null,
   "id": "678b88b5-becd-4c3c-946d-4fda24104af5",
   "metadata": {},
   "outputs": [],
   "source": []
  }
 ],
 "metadata": {
  "kernelspec": {
   "display_name": "Python 3 (ipykernel)",
   "language": "python",
   "name": "python3"
  },
  "language_info": {
   "codemirror_mode": {
    "name": "ipython",
    "version": 3
   },
   "file_extension": ".py",
   "mimetype": "text/x-python",
   "name": "python",
   "nbconvert_exporter": "python",
   "pygments_lexer": "ipython3",
   "version": "3.12.4"
  }
 },
 "nbformat": 4,
 "nbformat_minor": 5
}
