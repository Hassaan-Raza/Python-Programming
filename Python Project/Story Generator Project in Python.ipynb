{
 "cells": [
  {
   "cell_type": "code",
   "execution_count": 32,
   "id": "19fc5b30-aee3-4343-9d3e-771635601547",
   "metadata": {},
   "outputs": [
    {
     "name": "stdout",
     "output_type": "stream",
     "text": [
      "A week ago, a rabbit died at my office while living at my school\n"
     ]
    }
   ],
   "source": [
    "import random\n",
    "when=['Today','Tomorrow','This afternoon','This evening','Tonight','Yesterday','This morning','A few days ago','A few weeks ago','A few months ago','A month ago','A week ago']\n",
    "where=['at Home','in the forest','on the table','on the chair','on his computer','in the game','in my dreams','at my university','at my school','at my college','at my office']\n",
    "name=['George','John','Michael','The Cat','Michael Jackson','Xmair','Abde','Matthew','Franklin','Trevor','Niko','Tommy Vercetti','Claude','a rabbit', 'an elephant', 'a mouse', 'a turtle','a cat','a cougar','a tiger']\n",
    "went = ['cinema', 'university','seminar', 'school', 'laundry']\n",
    "happened = ['made a lot of friends','Eats a burger', 'found a secret key', 'solved a mystery', 'wrote a book','died','failed the mission','ate an egg','ate noodles']\n",
    "print(random.choice(when)+', '+random.choice(name)+' '+random.choice(happened) +' '+ random.choice(where)+' ' + 'while living '+ random.choice(where))"
   ]
  },
  {
   "cell_type": "code",
   "execution_count": null,
   "id": "6a1a321c-29ef-4f07-92b1-665d657760a4",
   "metadata": {},
   "outputs": [],
   "source": []
  }
 ],
 "metadata": {
  "kernelspec": {
   "display_name": "Python 3 (ipykernel)",
   "language": "python",
   "name": "python3"
  },
  "language_info": {
   "codemirror_mode": {
    "name": "ipython",
    "version": 3
   },
   "file_extension": ".py",
   "mimetype": "text/x-python",
   "name": "python",
   "nbconvert_exporter": "python",
   "pygments_lexer": "ipython3",
   "version": "3.12.4"
  }
 },
 "nbformat": 4,
 "nbformat_minor": 5
}
