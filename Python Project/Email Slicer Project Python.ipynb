{
 "cells": [
  {
   "cell_type": "code",
   "execution_count": 3,
   "id": "1bad9ae4-1934-4f8c-91f5-a0796f95c025",
   "metadata": {},
   "outputs": [
    {
     "name": "stdin",
     "output_type": "stream",
     "text": [
      "Enter your Email:  robberspakistani@gmail.com\n"
     ]
    },
    {
     "name": "stdout",
     "output_type": "stream",
     "text": [
      "Your Username is 'robberspakistani' and the domain name of the email is 'gmail.com'\n"
     ]
    }
   ],
   "source": [
    "email = input(\"Enter your Email: \").strip()\n",
    "username = email[:email.index(\"@\")]\n",
    "domainname = email[email.index(\"@\")+1:]\n",
    "print(\"Your Username is '{}' and the domain name of the email is '{}'\".format(username, domainname))"
   ]
  },
  {
   "cell_type": "code",
   "execution_count": null,
   "id": "95ca305f-edd9-4ceb-a54b-953669bd3570",
   "metadata": {},
   "outputs": [],
   "source": []
  }
 ],
 "metadata": {
  "kernelspec": {
   "display_name": "Python 3 (ipykernel)",
   "language": "python",
   "name": "python3"
  },
  "language_info": {
   "codemirror_mode": {
    "name": "ipython",
    "version": 3
   },
   "file_extension": ".py",
   "mimetype": "text/x-python",
   "name": "python",
   "nbconvert_exporter": "python",
   "pygments_lexer": "ipython3",
   "version": "3.12.4"
  }
 },
 "nbformat": 4,
 "nbformat_minor": 5
}
