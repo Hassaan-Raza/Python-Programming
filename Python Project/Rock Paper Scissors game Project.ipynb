{
 "cells": [
  {
   "cell_type": "code",
   "execution_count": 8,
   "id": "90e03d72-6a71-46c3-bb18-4af75adc5d9e",
   "metadata": {},
   "outputs": [
    {
     "name": "stdin",
     "output_type": "stream",
     "text": [
      "Rock,Paper or Scissor: Paper\n"
     ]
    },
    {
     "name": "stdout",
     "output_type": "stream",
     "text": [
      "Paper Covers Rock, You win\n"
     ]
    },
    {
     "name": "stdin",
     "output_type": "stream",
     "text": [
      "Rock,Paper or Scissor: Rock\n"
     ]
    },
    {
     "name": "stdout",
     "output_type": "stream",
     "text": [
      "Paper covers Rock, You lost\n"
     ]
    },
    {
     "name": "stdin",
     "output_type": "stream",
     "text": [
      "Rock,Paper or Scissor: Scissor\n"
     ]
    },
    {
     "name": "stdout",
     "output_type": "stream",
     "text": [
      "Rock beats Scissor, You lost\n"
     ]
    },
    {
     "name": "stdin",
     "output_type": "stream",
     "text": [
      "Rock,Paper or Scissor: Paper\n"
     ]
    },
    {
     "name": "stdout",
     "output_type": "stream",
     "text": [
      "Wow, The odds of this tie is MILLIONS TO ONE\n"
     ]
    },
    {
     "name": "stdin",
     "output_type": "stream",
     "text": [
      "Rock,Paper or Scissor: Paper\n"
     ]
    },
    {
     "name": "stdout",
     "output_type": "stream",
     "text": [
      "Scissors cut Paper, You lost\n"
     ]
    },
    {
     "name": "stdin",
     "output_type": "stream",
     "text": [
      "Rock,Paper or Scissor: Rock\n"
     ]
    },
    {
     "name": "stdout",
     "output_type": "stream",
     "text": [
      "Wow, The odds of this tie is MILLIONS TO ONE\n"
     ]
    },
    {
     "name": "stdin",
     "output_type": "stream",
     "text": [
      "Rock,Paper or Scissor: Scissor\n"
     ]
    },
    {
     "name": "stdout",
     "output_type": "stream",
     "text": [
      "Wow, The odds of this tie is MILLIONS TO ONE\n"
     ]
    },
    {
     "name": "stdin",
     "output_type": "stream",
     "text": [
      "Rock,Paper or Scissor: Paper\n"
     ]
    },
    {
     "name": "stdout",
     "output_type": "stream",
     "text": [
      "Paper Covers Rock, You win\n"
     ]
    },
    {
     "name": "stdin",
     "output_type": "stream",
     "text": [
      "Rock,Paper or Scissor: Paper\n"
     ]
    },
    {
     "name": "stdout",
     "output_type": "stream",
     "text": [
      "Paper Covers Rock, You win\n"
     ]
    },
    {
     "name": "stdin",
     "output_type": "stream",
     "text": [
      "Rock,Paper or Scissor: Scissor\n"
     ]
    },
    {
     "name": "stdout",
     "output_type": "stream",
     "text": [
      "Wow, The odds of this tie is MILLIONS TO ONE\n"
     ]
    },
    {
     "name": "stdin",
     "output_type": "stream",
     "text": [
      "Rock,Paper or Scissor: Rock\n"
     ]
    },
    {
     "name": "stdout",
     "output_type": "stream",
     "text": [
      "Wow, The odds of this tie is MILLIONS TO ONE\n"
     ]
    },
    {
     "name": "stdin",
     "output_type": "stream",
     "text": [
      "Rock,Paper or Scissor: Paper\n"
     ]
    },
    {
     "name": "stdout",
     "output_type": "stream",
     "text": [
      "Wow, The odds of this tie is MILLIONS TO ONE\n"
     ]
    },
    {
     "name": "stdin",
     "output_type": "stream",
     "text": [
      "Rock,Paper or Scissor: Rock\n"
     ]
    },
    {
     "name": "stdout",
     "output_type": "stream",
     "text": [
      "Wow, The odds of this tie is MILLIONS TO ONE\n"
     ]
    },
    {
     "name": "stdin",
     "output_type": "stream",
     "text": [
      "Rock,Paper or Scissor: Scissor\n"
     ]
    },
    {
     "name": "stdout",
     "output_type": "stream",
     "text": [
      "Scissor cuts Paper, You win\n"
     ]
    },
    {
     "name": "stdin",
     "output_type": "stream",
     "text": [
      "Rock,Paper or Scissor: End\n"
     ]
    },
    {
     "name": "stdout",
     "output_type": "stream",
     "text": [
      "Final Score\n",
      "Your score: 4\n",
      "CPU score: 3\n",
      "You win\n"
     ]
    }
   ],
   "source": [
    "import random\n",
    "game=['Rock','Paper','Scissor']\n",
    "cpu_score=0\n",
    "player_score=0\n",
    "while True:\n",
    "    user_input=input(\"Rock,Paper or Scissor:\")\n",
    "    random_select=random.choice(game)\n",
    "    if user_input=='Rock' and random_select=='Paper':\n",
    "        print('Paper covers Rock, You lost')\n",
    "        cpu_score+=1\n",
    "    elif user_input=='Paper' and random_select=='Scissor':\n",
    "        print('Scissors cut Paper, You lost')\n",
    "        cpu_score+=1\n",
    "    elif user_input=='Scissor' and random_select=='Rock':\n",
    "        print('Rock beats Scissor, You lost')\n",
    "        cpu_score+=1\n",
    "    elif user_input=='Paper' and random_select=='Rock':\n",
    "        print('Paper Covers Rock, You win')\n",
    "        player_score+=1\n",
    "    elif user_input=='Scissor' and random_select=='Paper':\n",
    "        print('Scissor cuts Paper, You win')\n",
    "        player_score+=1\n",
    "    elif user_input=='Rock' and random_select=='Scissor':\n",
    "        print('Rock beats Scissor, You win')\n",
    "        player_score+=1\n",
    "    elif user_input==random_select:\n",
    "        print('Wow, The odds of this tie is MILLIONS TO ONE')\n",
    "    elif user_input=='End':\n",
    "        print(\"Final Score\")\n",
    "        print(f\"Your score: {player_score}\")\n",
    "        print(f\"CPU score: {cpu_score}\")\n",
    "        if player_score>cpu_score:\n",
    "                print(\"You win\")\n",
    "        elif player_score<cpu_score:\n",
    "                print(\"CPU win\")\n",
    "        elif player_score==cpu_score:\n",
    "                print(\"Its a TIE\")\n",
    "        break"
   ]
  },
  {
   "cell_type": "code",
   "execution_count": null,
   "id": "198ffeb4-e9fc-4833-b198-5a998188695a",
   "metadata": {},
   "outputs": [],
   "source": []
  }
 ],
 "metadata": {
  "kernelspec": {
   "display_name": "Python 3 (ipykernel)",
   "language": "python",
   "name": "python3"
  },
  "language_info": {
   "codemirror_mode": {
    "name": "ipython",
    "version": 3
   },
   "file_extension": ".py",
   "mimetype": "text/x-python",
   "name": "python",
   "nbconvert_exporter": "python",
   "pygments_lexer": "ipython3",
   "version": "3.12.4"
  }
 },
 "nbformat": 4,
 "nbformat_minor": 5
}
