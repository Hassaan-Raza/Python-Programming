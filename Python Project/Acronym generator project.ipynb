{
 "cells": [
  {
   "cell_type": "code",
   "execution_count": 5,
   "id": "02ae340a-38b8-49c5-b965-0ce6225bb1f9",
   "metadata": {},
   "outputs": [
    {
     "name": "stdin",
     "output_type": "stream",
     "text": [
      "Enter a sentence Hey i like playing games and watching youtube videos\n"
     ]
    },
    {
     "name": "stdout",
     "output_type": "stream",
     "text": [
      " HILPGAWYV\n"
     ]
    }
   ],
   "source": [
    "user = str(input(\"Enter a sentence\"))\n",
    "a= \" \"\n",
    "text = user.split()\n",
    "for i in text:\n",
    "    a=a+str(i[0]).upper()\n",
    "print (a)"
   ]
  },
  {
   "cell_type": "code",
   "execution_count": null,
   "id": "9605b9d2-f1da-47ee-ab6d-cc3a0bc7086d",
   "metadata": {},
   "outputs": [],
   "source": []
  }
 ],
 "metadata": {
  "kernelspec": {
   "display_name": "Python 3 (ipykernel)",
   "language": "python",
   "name": "python3"
  },
  "language_info": {
   "codemirror_mode": {
    "name": "ipython",
    "version": 3
   },
   "file_extension": ".py",
   "mimetype": "text/x-python",
   "name": "python",
   "nbconvert_exporter": "python",
   "pygments_lexer": "ipython3",
   "version": "3.12.4"
  }
 },
 "nbformat": 4,
 "nbformat_minor": 5
}
