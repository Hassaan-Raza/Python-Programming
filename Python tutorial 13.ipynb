{
 "cells": [
  {
   "cell_type": "markdown",
   "id": "992898b7-16bd-48c8-a0c0-0adb6c944d1a",
   "metadata": {},
   "source": [
    "## Asynchronous(Parallel Execution)"
   ]
  },
  {
   "cell_type": "raw",
   "id": "51e14671-b17f-408d-baba-be5d26b4174d",
   "metadata": {},
   "source": [
    "The asynchronous execution can be performed with threads, using ThreadPoolExecutor or seperate processes using ProcessPoolExecutor. Both implement same interface, which is defined by the abstract Executor class"
   ]
  },
  {
   "cell_type": "code",
   "execution_count": 10,
   "id": "612675d6-b7ee-4489-a686-3a8681e4dcc2",
   "metadata": {},
   "outputs": [],
   "source": [
    "import time\n",
    "from concurrent.futures import ThreadPoolExecutor\n",
    "\n",
    "def returnnumber(a):\n",
    "    time.sleep(1)\n",
    "    return a\n",
    "\n"
   ]
  },
  {
   "cell_type": "code",
   "execution_count": 11,
   "id": "1d0c6079-c0ea-4c89-acbd-4341927d6904",
   "metadata": {},
   "outputs": [
    {
     "data": {
      "text/plain": [
       "12"
      ]
     },
     "execution_count": 11,
     "metadata": {},
     "output_type": "execute_result"
    }
   ],
   "source": [
    "returnnumber(12)"
   ]
  },
  {
   "cell_type": "code",
   "execution_count": 8,
   "id": "485d8ec6-562d-4b20-bc0e-91eaf85a6faf",
   "metadata": {},
   "outputs": [
    {
     "name": "stdout",
     "output_type": "stream",
     "text": [
      "Count: 0\n",
      "Count: 1\n",
      "Count: 2\n",
      "Count: 3\n",
      "Count: 4\n",
      "Count: 5\n",
      "Count: 6\n",
      "Count: 7\n",
      "Count: 8\n",
      "Count: 9\n",
      "Count: 10\n",
      "Count: 11\n",
      "Count: 12\n",
      "Count: 13\n",
      "Count: 14\n",
      "Count: 15\n",
      "Count: 16\n",
      "Count: 17\n",
      "Count: 18\n",
      "Count: 19\n",
      "Count: 20\n",
      "Count: 21\n",
      "Count: 22\n",
      "Count: 23\n",
      "Count: 24\n",
      "Count: 25\n",
      "Count: 26\n",
      "Count: 27\n",
      "Count: 28\n",
      "Count: 29\n",
      "Count: 30\n",
      "Count: 31\n",
      "Count: 32\n",
      "Count: 33\n",
      "Count: 34\n",
      "Count: 35\n",
      "Count: 36\n",
      "Count: 37\n",
      "Count: 38\n",
      "Count: 39\n",
      "Count: 40\n",
      "Count: 41\n",
      "Count: 42\n",
      "Count: 43\n",
      "Count: 44\n",
      "Count: 45\n",
      "Count: 46\n",
      "Count: 47\n",
      "Count: 48\n",
      "Count: 49\n",
      "Count: 50\n",
      "Count: 51\n",
      "Count: 52\n",
      "Count: 53\n",
      "Count: 54\n",
      "Count: 55\n",
      "Count: 56\n",
      "Count: 57\n",
      "Count: 58\n",
      "Count: 59\n",
      "Count: 60\n",
      "Count: 61\n",
      "Count: 62\n",
      "Count: 63\n",
      "Count: 64\n",
      "Count: 65\n",
      "Count: 66\n",
      "Count: 67\n",
      "Count: 68\n",
      "Count: 69\n",
      "Count: 70\n",
      "Count: 71\n",
      "Count: 72\n",
      "Count: 73\n",
      "Count: 74\n",
      "Count: 75\n",
      "Count: 76\n",
      "Count: 77\n",
      "Count: 78\n",
      "Count: 79\n",
      "Count: 80\n",
      "Count: 81\n",
      "Count: 82\n",
      "Count: 83\n",
      "Count: 84\n",
      "Count: 85\n",
      "Count: 86\n",
      "Count: 87\n",
      "Count: 88\n",
      "Count: 89\n",
      "Count: 90\n",
      "Count: 91\n",
      "Count: 92\n",
      "Count: 93\n",
      "Count: 94\n",
      "Count: 95\n",
      "Count: 96\n",
      "Count: 97\n",
      "Count: 98\n",
      "Count: 99\n",
      "The total time is:13.029930591583252\n"
     ]
    }
   ],
   "source": [
    "start=time.time()\n",
    "with ThreadPoolExecutor(max_workers=None) as executor:##max_workers=None means we are not doing it in parallel task, if we change it to 1,2,3, then it would mean we want to do it in respective amount of tasks\n",
    "    for result in executor.map(returnnumber,range(100)):\n",
    "        print(\"Count: {0}\".format(result))\n",
    "print(\"The total time is:{0}\".format(time.time()-start))"
   ]
  },
  {
   "cell_type": "code",
   "execution_count": 22,
   "id": "4f83817b-f3ed-45cf-bda8-01ad453bc5a8",
   "metadata": {},
   "outputs": [
    {
     "name": "stdout",
     "output_type": "stream",
     "text": [
      "Count: 0\n",
      "Count: 1\n",
      "Count: 2\n",
      "Count: 3\n",
      "Count: 4\n",
      "Count: 5\n",
      "Count: 6\n",
      "Count: 7\n",
      "Count: 8\n",
      "Count: 9\n",
      "Count: 10\n",
      "Count: 11\n",
      "Count: 12\n",
      "Count: 13\n",
      "Count: 14\n",
      "Count: 15\n",
      "Count: 16\n",
      "Count: 17\n",
      "Count: 18\n",
      "Count: 19\n",
      "Count: 20\n",
      "Count: 21\n",
      "Count: 22\n",
      "Count: 23\n",
      "Count: 24\n",
      "Count: 25\n",
      "Count: 26\n",
      "Count: 27\n",
      "Count: 28\n",
      "Count: 29\n",
      "Count: 30\n",
      "Count: 31\n",
      "Count: 32\n",
      "Count: 33\n",
      "Count: 34\n",
      "Count: 35\n",
      "Count: 36\n",
      "Count: 37\n",
      "Count: 38\n",
      "Count: 39\n",
      "Count: 40\n",
      "Count: 41\n",
      "Count: 42\n",
      "Count: 43\n",
      "Count: 44\n",
      "Count: 45\n",
      "Count: 46\n",
      "Count: 47\n",
      "Count: 48\n",
      "Count: 49\n",
      "Count: 50\n",
      "Count: 51\n",
      "Count: 52\n",
      "Count: 53\n",
      "Count: 54\n",
      "Count: 55\n",
      "Count: 56\n",
      "Count: 57\n",
      "Count: 58\n",
      "Count: 59\n",
      "Count: 60\n",
      "Count: 61\n",
      "Count: 62\n",
      "Count: 63\n",
      "Count: 64\n",
      "Count: 65\n",
      "Count: 66\n",
      "Count: 67\n",
      "Count: 68\n",
      "Count: 69\n",
      "Count: 70\n",
      "Count: 71\n",
      "Count: 72\n",
      "Count: 73\n",
      "Count: 74\n",
      "Count: 75\n",
      "Count: 76\n",
      "Count: 77\n",
      "Count: 78\n",
      "Count: 79\n",
      "Count: 80\n",
      "Count: 81\n",
      "Count: 82\n",
      "Count: 83\n",
      "Count: 84\n",
      "Count: 85\n",
      "Count: 86\n",
      "Count: 87\n",
      "Count: 88\n",
      "Count: 89\n",
      "Count: 90\n",
      "Count: 91\n",
      "Count: 92\n",
      "Count: 93\n",
      "Count: 94\n",
      "Count: 95\n",
      "Count: 96\n",
      "Count: 97\n",
      "Count: 98\n",
      "Count: 99\n",
      "The total time is:10.115730047225952\n"
     ]
    }
   ],
   "source": [
    "start=time.time()\n",
    "with ThreadPoolExecutor(max_workers=10) as executor:\n",
    "    for result in executor.map(returnnumber,range(100)):\n",
    "        print(\"Count: {0}\".format(result))\n",
    "print(\"The total time is:{0}\".format(time.time()-start))"
   ]
  },
  {
   "cell_type": "markdown",
   "id": "f8c14da4-0f11-4d80-a357-ffdb21afbb9b",
   "metadata": {},
   "source": [
    "### Python Zip Function - Parallel Iteration"
   ]
  },
  {
   "cell_type": "code",
   "execution_count": 37,
   "id": "25043cce-2cc8-4733-b302-c9b9bb1a7a56",
   "metadata": {},
   "outputs": [],
   "source": [
    "lst1=[\"Krish\",\"Sam\",\"John\"]\n",
    "lst2=[\"a\",\"b\",\"c\"]"
   ]
  },
  {
   "cell_type": "code",
   "execution_count": 38,
   "id": "0a92aba7-287d-455a-b307-13c68b48c1b3",
   "metadata": {},
   "outputs": [],
   "source": [
    "output=zip(lst1,lst2)##this function takes iterables."
   ]
  },
  {
   "cell_type": "code",
   "execution_count": 27,
   "id": "f19da1a3-7bfe-46d2-94f1-da7e6e222e62",
   "metadata": {},
   "outputs": [
    {
     "data": {
      "text/plain": [
       "<zip at 0x1d87cb1e180>"
      ]
     },
     "execution_count": 27,
     "metadata": {},
     "output_type": "execute_result"
    }
   ],
   "source": [
    "output"
   ]
  },
  {
   "cell_type": "code",
   "execution_count": 28,
   "id": "5b68bd8c-f1b3-466d-b6a5-e84fa478258c",
   "metadata": {},
   "outputs": [
    {
     "data": {
      "text/plain": [
       "[('Krish', 'a'), ('Sam', 'b'), ('John', 'c')]"
      ]
     },
     "execution_count": 28,
     "metadata": {},
     "output_type": "execute_result"
    }
   ],
   "source": [
    "list(output)"
   ]
  },
  {
   "cell_type": "raw",
   "id": "a0a4ba70-c72c-4593-92d9-0920b5175a49",
   "metadata": {},
   "source": [
    "It basically created tuples of lists in the format\n",
    "(element 1 of list 1,element 1 of list 2),... "
   ]
  },
  {
   "cell_type": "raw",
   "id": "559b6890-0c0b-4ba3-8628-cb5b8c05aba5",
   "metadata": {},
   "source": [
    "Features of zip\n",
    "its an iterator"
   ]
  },
  {
   "cell_type": "code",
   "execution_count": 34,
   "id": "1cc27afd-d2f9-4b07-a530-be6bf468c444",
   "metadata": {},
   "outputs": [
    {
     "data": {
      "text/plain": [
       "('John', 'c')"
      ]
     },
     "execution_count": 34,
     "metadata": {},
     "output_type": "execute_result"
    }
   ],
   "source": [
    "next(output)"
   ]
  },
  {
   "cell_type": "code",
   "execution_count": 39,
   "id": "91e16070-55af-43b4-b8f5-f7796da20721",
   "metadata": {},
   "outputs": [
    {
     "name": "stdout",
     "output_type": "stream",
     "text": [
      "('Krish', 'a')\n",
      "('Sam', 'b')\n",
      "('John', 'c')\n"
     ]
    }
   ],
   "source": [
    "for i in output:\n",
    "    print(i)"
   ]
  },
  {
   "cell_type": "raw",
   "id": "8210eab3-9dc7-41e2-930e-1becb2096ea7",
   "metadata": {},
   "source": [
    "You can have more than 2 lists btw"
   ]
  },
  {
   "cell_type": "markdown",
   "id": "83a4411b-371f-4534-a094-f34dc579577a",
   "metadata": {},
   "source": [
    "lst1=[\"Krish\",\"Sam\",\"John\"]\n",
    "lst2=[\"a\",\"b\",\"c\"]\n",
    "lst3=[\"s\",\"f\",\"g\"]\n",
    "output=zip(lst1,lst2,lst3)"
   ]
  },
  {
   "cell_type": "code",
   "execution_count": 41,
   "id": "0545e258-65d4-4b3a-bd20-565557f8fca2",
   "metadata": {},
   "outputs": [
    {
     "name": "stdout",
     "output_type": "stream",
     "text": [
      "Krish a s\n",
      "Sam b f\n",
      "John c g\n"
     ]
    }
   ],
   "source": [
    "for i,j,k in output:\n",
    "    print(i,j,k)"
   ]
  },
  {
   "cell_type": "raw",
   "id": "0fdf72f8-7dcd-47e5-9929-daf8bda00cff",
   "metadata": {},
   "source": [
    "It matches the elements of the lists with each other and make sure the size of the lists are equal, any extra element are neglected"
   ]
  },
  {
   "cell_type": "raw",
   "id": "a2f1a9f3-9121-484f-8c90-0747dfd50363",
   "metadata": {},
   "source": [
    "It is used for data preprocessing, feature engineering, because it helps us to do parallel iteration"
   ]
  },
  {
   "cell_type": "code",
   "execution_count": 42,
   "id": "ec7826cb-0293-44dd-a357-306953ed9597",
   "metadata": {},
   "outputs": [],
   "source": [
    "## for dictionary\n",
    "\n",
    "dict1={'name' : 'Moon','lst_name':'Walking','age':20}\n",
    "dict2={'name' : 'Maireee','lst_name':'Maire','age':21}"
   ]
  },
  {
   "cell_type": "code",
   "execution_count": 44,
   "id": "8ac90f97-9a4b-4210-8fcc-f2fdfe7a81ed",
   "metadata": {},
   "outputs": [],
   "source": [
    "dictionary=zip(dict1.items(),dict2.items())"
   ]
  },
  {
   "cell_type": "code",
   "execution_count": 45,
   "id": "2d7477b4-958c-48e0-8061-01793b9ca084",
   "metadata": {},
   "outputs": [
    {
     "name": "stdout",
     "output_type": "stream",
     "text": [
      "name Moon\n",
      "name Maireee\n",
      "lst_name Walking\n",
      "lst_name Maire\n",
      "age 20\n",
      "age 21\n"
     ]
    }
   ],
   "source": [
    "for (i,j),(i2,j2) in dictionary:\n",
    "    print(i,j)\n",
    "    print(i2,j2)"
   ]
  },
  {
   "cell_type": "markdown",
   "id": "b7559211-e102-461c-945e-e96f53296605",
   "metadata": {},
   "source": [
    "### PDF Password Protection Using Python"
   ]
  },
  {
   "cell_type": "code",
   "execution_count": 46,
   "id": "733acf0a-de59-406f-b84c-94ec53cb0f81",
   "metadata": {},
   "outputs": [
    {
     "name": "stdout",
     "output_type": "stream",
     "text": [
      "Collecting PyPDF2\n",
      "  Downloading pypdf2-3.0.1-py3-none-any.whl.metadata (6.8 kB)\n",
      "Downloading pypdf2-3.0.1-py3-none-any.whl (232 kB)\n",
      "   ---------------------------------------- 0.0/232.6 kB ? eta -:--:--\n",
      "   --------------------------------- ------ 194.6/232.6 kB 5.9 MB/s eta 0:00:01\n",
      "   --------------------------------- ------ 194.6/232.6 kB 5.9 MB/s eta 0:00:01\n",
      "   --------------------------------- ------ 194.6/232.6 kB 5.9 MB/s eta 0:00:01\n",
      "   ---------------------------------------- 232.6/232.6 kB 1.3 MB/s eta 0:00:00\n",
      "Installing collected packages: PyPDF2\n",
      "Successfully installed PyPDF2-3.0.1\n"
     ]
    }
   ],
   "source": [
    "!pip install PyPDF2"
   ]
  },
  {
   "cell_type": "code",
   "execution_count": 53,
   "id": "9330879c-1537-43a3-b0c8-d6a2c1398bcc",
   "metadata": {},
   "outputs": [],
   "source": [
    "from PyPDF2 import PdfReader,PdfWriter"
   ]
  },
  {
   "cell_type": "code",
   "execution_count": 54,
   "id": "98f97a77-f880-479b-90df-04c9c3c484b8",
   "metadata": {},
   "outputs": [],
   "source": [
    "##open the current PDF\n",
    "file_pdf=PdfReader('main.pdf')\n",
    "##Object for PDF writer\n",
    "out_pdf=PdfWriter()\n"
   ]
  },
  {
   "cell_type": "code",
   "execution_count": 59,
   "id": "1f46c698-39c3-4726-90c0-6951f8cb4dac",
   "metadata": {},
   "outputs": [
    {
     "data": {
      "text/plain": [
       "<PyPDF2._reader.PdfReader at 0x1d87da0e0c0>"
      ]
     },
     "execution_count": 59,
     "metadata": {},
     "output_type": "execute_result"
    }
   ],
   "source": [
    "file_pdf"
   ]
  },
  {
   "cell_type": "code",
   "execution_count": 62,
   "id": "ee55dcd2-98df-49e8-87a0-fe1addefa0d3",
   "metadata": {},
   "outputs": [
    {
     "data": {
      "text/plain": [
       "8"
      ]
     },
     "execution_count": 62,
     "metadata": {},
     "output_type": "execute_result"
    }
   ],
   "source": [
    "## Reading the ammount of pages\n",
    "\n",
    "len(file_pdf.pages)"
   ]
  },
  {
   "cell_type": "code",
   "execution_count": 67,
   "id": "e11e7447-d65f-4b47-bccf-812e120db634",
   "metadata": {},
   "outputs": [],
   "source": [
    "for i in  range(len(file_pdf.pages)):\n",
    "    page_details=file_pdf.pages[i]\n",
    "    ### Add to the output page\n",
    "    out_pdf.add_page(page_details)"
   ]
  },
  {
   "cell_type": "code",
   "execution_count": 68,
   "id": "f3cb91b7-7f50-4218-8974-a63717afbb64",
   "metadata": {},
   "outputs": [],
   "source": [
    "password=\"Moonwalking\"\n",
    "\n",
    "out_pdf.encrypt(password)"
   ]
  },
  {
   "cell_type": "code",
   "execution_count": 71,
   "id": "410b2ea8-e94d-437d-9f85-5c2de87cc410",
   "metadata": {},
   "outputs": [],
   "source": [
    "with open(\"encryptedtickers.pdf\",\"wb\") as filename:\n",
    "    out_pdf.write(filename)"
   ]
  },
  {
   "cell_type": "markdown",
   "id": "90f4cfd2-6e9f-48c3-9d40-14cf5ffaed8a",
   "metadata": {},
   "source": [
    "### Logging in Python\n"
   ]
  },
  {
   "cell_type": "code",
   "execution_count": 72,
   "id": "e9b19d7f-5130-4559-9ddc-a302a7a5f994",
   "metadata": {},
   "outputs": [],
   "source": [
    "import logging"
   ]
  },
  {
   "cell_type": "code",
   "execution_count": 73,
   "id": "8569e23c-55a8-47ae-a1f3-290e2dbbd13b",
   "metadata": {},
   "outputs": [],
   "source": [
    "logging.basicConfig(filename=\"Moon.txt\",\n",
    "                    filemode='a',\n",
    "                    format= '%(asctime)s %(levelname)s-%(message)s',\n",
    "                    datefmt='%Y-%m-%d %H:%M:%S')"
   ]
  },
  {
   "cell_type": "code",
   "execution_count": 74,
   "id": "27bacda1-361c-4ba3-bda7-1bbc5072121b",
   "metadata": {},
   "outputs": [],
   "source": [
    "for i in range(0,15):\n",
    "    if(i%2==0):\n",
    "        logging.warning('Log Warning Message')\n",
    "    elif(i%3==0):\n",
    "        logging.critical('Log Critical Message')\n",
    "    else:\n",
    "        logging.error('Log Error Message')"
   ]
  },
  {
   "cell_type": "code",
   "execution_count": 75,
   "id": "ccd5f5c4-5fc0-4ae4-b40f-a157c0e4f24f",
   "metadata": {},
   "outputs": [],
   "source": [
    "for i in range(0,15):\n",
    "    try:\n",
    "        i=i/0\n",
    "    except:\n",
    "        logging.error(\"Division by zero\")"
   ]
  },
  {
   "cell_type": "markdown",
   "id": "0137f10b-22be-487c-9dba-c615e1fd249e",
   "metadata": {},
   "source": [
    "### SHA,(Secure Hash Algorithm) - Base Of BlockChain"
   ]
  },
  {
   "cell_type": "raw",
   "id": "7df813c6-784b-429c-80fe-b1764ceb1690",
   "metadata": {},
   "source": [
    "SHA256: This hash function belongs to hash class SHA-2, the internal block size of it is 32 bits\n",
    "SHA384: This hash function belongs to hash class SHA-2, the internal block size of it is 32 bits. This is one of the truncated version.\n",
    "SHA224: This hash function belongs to hash class SHA-2, the internal block size of it is 32 bits. This is one of the truncated version.\n",
    "SHA512: This hash function belongs to hash class SHA-2, the internal block size of it is 64 bits.\n",
    "SHA1 : The 160 bit hash function that resembles MD5 hash in working and was discontinued to be used seeing its security vulnerabilities."
   ]
  },
  {
   "cell_type": "code",
   "execution_count": 76,
   "id": "872c3e21-b4a9-4338-ba48-774cbb6a3f8f",
   "metadata": {},
   "outputs": [],
   "source": [
    "import hashlib"
   ]
  },
  {
   "cell_type": "markdown",
   "id": "e23a44e4-b176-4b06-a988-3d51e9a3a4df",
   "metadata": {},
   "source": [
    "## SHA256"
   ]
  },
  {
   "cell_type": "code",
   "execution_count": 77,
   "id": "beadb4b8-a96d-4630-8862-090cae4d9c6d",
   "metadata": {},
   "outputs": [
    {
     "name": "stdout",
     "output_type": "stream",
     "text": [
      "<sha256 _hashlib.HASH object @ 0x000001D87E3C9270>\n"
     ]
    }
   ],
   "source": [
    "str=\"MoonWalking\"\n",
    "##first step is to encode it then apply hash algorithm\n",
    "hashedval= hashlib.sha256(str.encode())\n",
    "print(hashedval)"
   ]
  },
  {
   "cell_type": "code",
   "execution_count": 78,
   "id": "c52d984a-c5df-4694-8463-b3b9f8ae7781",
   "metadata": {},
   "outputs": [
    {
     "data": {
      "text/plain": [
       "'99846d04365cb7ee2ea05a58e0236d4f7cd2b49f6aa1f00338be6836d8fc75a6'"
      ]
     },
     "execution_count": 78,
     "metadata": {},
     "output_type": "execute_result"
    }
   ],
   "source": [
    "###convert its value to hexadecimal\n",
    "hashedval.hexdigest()"
   ]
  },
  {
   "cell_type": "markdown",
   "id": "5a464f15-0c4b-4400-bc3c-4facc99cc159",
   "metadata": {},
   "source": [
    "## SHA384"
   ]
  },
  {
   "cell_type": "code",
   "execution_count": 80,
   "id": "85634ecc-0d47-4d9e-a73d-a89c97b73237",
   "metadata": {},
   "outputs": [
    {
     "data": {
      "text/plain": [
       "'61595c353309b27db74840c2a622aa45ee12535185443ef73ffc3a2eaf0ec6913841398793b4178be68e1dc590439ec0'"
      ]
     },
     "execution_count": 80,
     "metadata": {},
     "output_type": "execute_result"
    }
   ],
   "source": [
    "hashedval=hashlib.sha384(str.encode())\n",
    "hashedval.hexdigest()"
   ]
  },
  {
   "cell_type": "markdown",
   "id": "3c809bc5-7fa0-4ebc-86ec-3477ffc4cb0c",
   "metadata": {},
   "source": [
    "## SHA224"
   ]
  },
  {
   "cell_type": "code",
   "execution_count": 82,
   "id": "7dba078f-7390-43cf-b763-a8e8698e9494",
   "metadata": {},
   "outputs": [
    {
     "data": {
      "text/plain": [
       "'99bc24c69b4b2e13cf9cc3b80cc5e9c5ea9f3893dd86ee384f3f3f89'"
      ]
     },
     "execution_count": 82,
     "metadata": {},
     "output_type": "execute_result"
    }
   ],
   "source": [
    "hashedval=hashlib.sha224(str.encode())\n",
    "hashedval.hexdigest()"
   ]
  },
  {
   "cell_type": "markdown",
   "id": "d666d919-9160-4c87-a18d-01b7e445e015",
   "metadata": {},
   "source": [
    "## SHA512"
   ]
  },
  {
   "cell_type": "code",
   "execution_count": 83,
   "id": "10ba9855-cdb2-4d78-9887-7f2e1418f9bd",
   "metadata": {},
   "outputs": [
    {
     "data": {
      "text/plain": [
       "'adaa66549bc0add87785fe01586e0ca9f66eb20695a064f897da2b4ed6d1705f58e5cb6386a86f6c10398fe18815b1e13d3053982e81bbe796d1f9a18e07402f'"
      ]
     },
     "execution_count": 83,
     "metadata": {},
     "output_type": "execute_result"
    }
   ],
   "source": [
    "hashedval=hashlib.sha512(str.encode())\n",
    "hashedval.hexdigest()"
   ]
  },
  {
   "cell_type": "markdown",
   "id": "4170573b-9cb6-468c-ac2f-278a4bef09f6",
   "metadata": {},
   "source": [
    "## Python OOPS - Public, Protected and Private"
   ]
  },
  {
   "cell_type": "code",
   "execution_count": 98,
   "id": "84dd2443-41f6-4531-b48a-caa3b4130f18",
   "metadata": {},
   "outputs": [],
   "source": [
    "##all class variables are public\n",
    "class Car():\n",
    "    def __init__(self,windows,doors,enginetype):\n",
    "        self.windows=windows\n",
    "        self.doors=doors\n",
    "        self.enginetype=enginetype"
   ]
  },
  {
   "cell_type": "code",
   "execution_count": 99,
   "id": "d91392c5-feae-49c0-8cc7-d6e0847357ce",
   "metadata": {},
   "outputs": [],
   "source": [
    "audi=Car(4,5,\"Diesel\")"
   ]
  },
  {
   "cell_type": "code",
   "execution_count": 100,
   "id": "04e2aa81-4f09-41d5-9dde-ece09c9c87ce",
   "metadata": {},
   "outputs": [
    {
     "data": {
      "text/plain": [
       "<__main__.Car at 0x1d87cdd20c0>"
      ]
     },
     "execution_count": 100,
     "metadata": {},
     "output_type": "execute_result"
    }
   ],
   "source": [
    "audi"
   ]
  },
  {
   "cell_type": "code",
   "execution_count": 101,
   "id": "69d3f431-efb4-438a-beed-e9a64d7371b9",
   "metadata": {},
   "outputs": [],
   "source": [
    "##all class variables are protected, done by adding _ before the name of the variables\n",
    "class Car():\n",
    "    def __init__(self,windows,doors,enginetype):\n",
    "        self._windows=windows\n",
    "        self._doors=doors\n",
    "        self._enginetype=enginetype"
   ]
  },
  {
   "cell_type": "code",
   "execution_count": 102,
   "id": "55e55477-c148-4993-8774-68a50b330cc6",
   "metadata": {},
   "outputs": [
    {
     "data": {
      "text/plain": [
       "['__class__',\n",
       " '__delattr__',\n",
       " '__dict__',\n",
       " '__dir__',\n",
       " '__doc__',\n",
       " '__eq__',\n",
       " '__format__',\n",
       " '__ge__',\n",
       " '__getattribute__',\n",
       " '__getstate__',\n",
       " '__gt__',\n",
       " '__hash__',\n",
       " '__init__',\n",
       " '__init_subclass__',\n",
       " '__le__',\n",
       " '__lt__',\n",
       " '__module__',\n",
       " '__ne__',\n",
       " '__new__',\n",
       " '__reduce__',\n",
       " '__reduce_ex__',\n",
       " '__repr__',\n",
       " '__setattr__',\n",
       " '__sizeof__',\n",
       " '__str__',\n",
       " '__subclasshook__',\n",
       " '__weakref__',\n",
       " '_doors',\n",
       " '_enginetype',\n",
       " '_windows']"
      ]
     },
     "execution_count": 102,
     "metadata": {},
     "output_type": "execute_result"
    }
   ],
   "source": [
    "audi=Car(4,4,\"Diesel\")\n",
    "dir(audi)"
   ]
  },
  {
   "cell_type": "raw",
   "id": "3b04419b-f56a-4eb5-aa68-c67c655110bb",
   "metadata": {},
   "source": [
    "The private variables can be over-riden but overriding should be only done from sub-class/child class"
   ]
  },
  {
   "cell_type": "raw",
   "id": "449aa25b-de52-42a4-9e9b-a00f807794e1",
   "metadata": {},
   "source": [
    "Now for protected"
   ]
  },
  {
   "cell_type": "code",
   "execution_count": 105,
   "id": "670f1794-b6bf-4713-a8ff-9716816d1b51",
   "metadata": {},
   "outputs": [],
   "source": [
    "class Truck(Car):\n",
    "    def __init__(self,windows,doors,enginetype,horsepower):\n",
    "        super().__init__(windows,doors,enginetype)\n",
    "        self.horsepower=horsepower"
   ]
  },
  {
   "cell_type": "code",
   "execution_count": 106,
   "id": "56e792be-c0bd-4709-a986-a4d1c43e640b",
   "metadata": {},
   "outputs": [],
   "source": [
    "truck=Truck(4,4,\"Diesel\",4000)"
   ]
  },
  {
   "cell_type": "code",
   "execution_count": 107,
   "id": "6dc6b94b-afc8-46fc-aa6e-e78f5962b973",
   "metadata": {},
   "outputs": [
    {
     "data": {
      "text/plain": [
       "['__class__',\n",
       " '__delattr__',\n",
       " '__dict__',\n",
       " '__dir__',\n",
       " '__doc__',\n",
       " '__eq__',\n",
       " '__format__',\n",
       " '__ge__',\n",
       " '__getattribute__',\n",
       " '__getstate__',\n",
       " '__gt__',\n",
       " '__hash__',\n",
       " '__init__',\n",
       " '__init_subclass__',\n",
       " '__le__',\n",
       " '__lt__',\n",
       " '__module__',\n",
       " '__ne__',\n",
       " '__new__',\n",
       " '__reduce__',\n",
       " '__reduce_ex__',\n",
       " '__repr__',\n",
       " '__setattr__',\n",
       " '__sizeof__',\n",
       " '__str__',\n",
       " '__subclasshook__',\n",
       " '__weakref__',\n",
       " '_doors',\n",
       " '_enginetype',\n",
       " '_windows',\n",
       " 'horsepower']"
      ]
     },
     "execution_count": 107,
     "metadata": {},
     "output_type": "execute_result"
    }
   ],
   "source": [
    "dir(truck)"
   ]
  },
  {
   "cell_type": "raw",
   "id": "39334c7b-2e3b-4c7b-9de1-2bbe93005145",
   "metadata": {},
   "source": [
    "super().__init__(parameters) is used in the child class to show protected variables"
   ]
  },
  {
   "cell_type": "markdown",
   "id": "ddaf875f-a6ff-4b8e-b9a7-477fb05334ae",
   "metadata": {},
   "source": [
    "## Can we have Multiple Constructor in Python"
   ]
  },
  {
   "cell_type": "code",
   "execution_count": 108,
   "id": "1d3c852f-0af1-4517-96db-7296a190d47e",
   "metadata": {},
   "outputs": [],
   "source": [
    "class Car():\n",
    "    def __init__(self,windows,doors,enginetype):\n",
    "        self.windows=windows\n",
    "        self.doors=doors\n",
    "        self.enginetype=enginetype\n",
    "    def __init__(self,windows,doors,enginetype,horsepower):\n",
    "        self.windows=windows\n",
    "        self.doors=doors\n",
    "        self.enginetype=enginetype\n",
    "        self.horsepower=horsepower\n",
    "    def start(self):\n",
    "        print(\"Engine started\")"
   ]
  },
  {
   "cell_type": "code",
   "execution_count": 109,
   "id": "5b0b6be4-b36e-41d6-95f9-a0f5b8ce6b81",
   "metadata": {},
   "outputs": [],
   "source": [
    "audi=Car(4,5,\"Diesel\",4000)"
   ]
  },
  {
   "cell_type": "code",
   "execution_count": 110,
   "id": "d072815b-0675-42a3-af38-216f61d8b7e2",
   "metadata": {},
   "outputs": [
    {
     "name": "stdout",
     "output_type": "stream",
     "text": [
      "Engine started\n"
     ]
    }
   ],
   "source": [
    "audi.start()"
   ]
  },
  {
   "cell_type": "code",
   "execution_count": 111,
   "id": "ebc50808-9440-4d50-b512-1ea9cabf5dde",
   "metadata": {},
   "outputs": [
    {
     "data": {
      "text/plain": [
       "4000"
      ]
     },
     "execution_count": 111,
     "metadata": {},
     "output_type": "execute_result"
    }
   ],
   "source": [
    "audi.horsepower"
   ]
  },
  {
   "cell_type": "raw",
   "id": "5d55309c-e623-4858-b504-108ca55f768c",
   "metadata": {},
   "source": [
    "What happened here that we have overriden the first constructor. So yes we can have Multiple Constructor in Python"
   ]
  },
  {
   "cell_type": "raw",
   "id": "d1a29cdd-3b20-46de-b70b-ec631ef69ad4",
   "metadata": {},
   "source": [
    "Now if we dont want multiple constructors, we can use a simple hack by using positional arguments *args"
   ]
  },
  {
   "cell_type": "code",
   "execution_count": 112,
   "id": "2a2b60bf-0257-4698-a130-daa3536f5b14",
   "metadata": {},
   "outputs": [],
   "source": [
    "class Car():\n",
    "    def __init__(self,*args):\n",
    "        if len(args)==1:\n",
    "            self.windows=args[0]\n",
    "        elif len(args)==2:\n",
    "            self.windows=args[0]\n",
    "            self.doors=args[1]\n",
    "        elif len(args)==3:\n",
    "            self.windows=args[0]\n",
    "            self.doors=args[1]\n",
    "            self.enginetype=args[2]\n",
    "        elif len(args)==4:\n",
    "            self.windows=args[0]\n",
    "            self.doors=args[1]\n",
    "            self.enginetype=args[2]\n",
    "            self.horsepower=args[3]\n",
    "    def start(self):\n",
    "        print(\"Engine started\")"
   ]
  },
  {
   "cell_type": "code",
   "execution_count": 113,
   "id": "537cecab-91e1-479f-a214-04ba87f52b6c",
   "metadata": {},
   "outputs": [],
   "source": [
    "audi=Car(3,4)"
   ]
  },
  {
   "cell_type": "code",
   "execution_count": 114,
   "id": "82bab7d8-5598-461f-a7ea-82e8bdc82fd8",
   "metadata": {},
   "outputs": [
    {
     "data": {
      "text/plain": [
       "3"
      ]
     },
     "execution_count": 114,
     "metadata": {},
     "output_type": "execute_result"
    }
   ],
   "source": [
    "audi.windows"
   ]
  },
  {
   "cell_type": "code",
   "execution_count": 115,
   "id": "706c87c0-8a2e-4a94-822f-081cc4b29060",
   "metadata": {},
   "outputs": [
    {
     "data": {
      "text/plain": [
       "4"
      ]
     },
     "execution_count": 115,
     "metadata": {},
     "output_type": "execute_result"
    }
   ],
   "source": [
    "audi.doors"
   ]
  },
  {
   "cell_type": "markdown",
   "id": "b3bf106b-c24b-4387-81f4-0a47bf4fa721",
   "metadata": {},
   "source": [
    "### Python Data Classes"
   ]
  },
  {
   "cell_type": "code",
   "execution_count": 117,
   "id": "220b2c7e-74ac-4aef-ad7a-5682b9ff53e9",
   "metadata": {},
   "outputs": [],
   "source": [
    "from dataclasses import dataclass"
   ]
  },
  {
   "cell_type": "raw",
   "id": "854824e1-7e60-4f92-8f95-41de28181de1",
   "metadata": {},
   "source": [
    "What this does, is that it reduces the amount of code you have to write to make a class"
   ]
  },
  {
   "cell_type": "code",
   "execution_count": 118,
   "id": "4a6a2aa1-a283-4bc2-b6ff-739fe1dac01d",
   "metadata": {},
   "outputs": [],
   "source": [
    "@dataclass\n",
    "class Person:\n",
    "    name:str\n",
    "    age:int\n",
    "    hobby:str"
   ]
  },
  {
   "cell_type": "code",
   "execution_count": 119,
   "id": "06401f18-3c77-43e1-957b-fc53655a20b7",
   "metadata": {},
   "outputs": [],
   "source": [
    "person1=Person(\"Moon\",20,\"Gaming\")"
   ]
  },
  {
   "cell_type": "code",
   "execution_count": 120,
   "id": "90588687-5183-47c5-adc1-d018e751e4b9",
   "metadata": {},
   "outputs": [
    {
     "data": {
      "text/plain": [
       "'Moon'"
      ]
     },
     "execution_count": 120,
     "metadata": {},
     "output_type": "execute_result"
    }
   ],
   "source": [
    "person1.name"
   ]
  },
  {
   "cell_type": "code",
   "execution_count": 121,
   "id": "213fcb58-8ab3-4aae-aae0-5e9b4556e215",
   "metadata": {},
   "outputs": [
    {
     "data": {
      "text/plain": [
       "20"
      ]
     },
     "execution_count": 121,
     "metadata": {},
     "output_type": "execute_result"
    }
   ],
   "source": [
    "person1.age"
   ]
  },
  {
   "cell_type": "markdown",
   "id": "a0b7675f-d5be-431b-830a-d7076007fe51",
   "metadata": {},
   "source": [
    "person1.hobby"
   ]
  },
  {
   "cell_type": "raw",
   "id": "34450f73-1b51-4082-8e3b-ab10968e0097",
   "metadata": {},
   "source": [
    " The @dataclass decorator automatically generates the methods for you\n",
    "\n",
    "init() the constructor\n",
    "repr() the string representation of object\n",
    "eq() implements equality comparison between two objects of the class based on their attributes"
   ]
  },
  {
   "cell_type": "raw",
   "id": "73862deb-d2cb-46cf-9258-563420f6ea52",
   "metadata": {},
   "source": [
    "what if we want to make values of the class non overridenable"
   ]
  },
  {
   "cell_type": "code",
   "execution_count": 129,
   "id": "852a7b3d-b042-46d6-9f1d-8e8efbf1745d",
   "metadata": {},
   "outputs": [],
   "source": [
    "@dataclass(frozen=True)\n",
    "class Person:\n",
    "    age:int\n",
    "    hobby:str\n",
    "    name:str=\"Moonwalking\" ## always put your default arguments at the end"
   ]
  },
  {
   "cell_type": "code",
   "execution_count": 131,
   "id": "bf270443-c0b3-4863-95e9-e0110f9bfe8d",
   "metadata": {},
   "outputs": [],
   "source": [
    "person=Person(20,\"Gaming\")"
   ]
  },
  {
   "cell_type": "code",
   "execution_count": 132,
   "id": "694a2061-7ee1-44a4-add6-ee6797f30412",
   "metadata": {},
   "outputs": [
    {
     "data": {
      "text/plain": [
       "Person(age=20, hobby='Gaming', name='Moonwalking')"
      ]
     },
     "execution_count": 132,
     "metadata": {},
     "output_type": "execute_result"
    }
   ],
   "source": [
    "person"
   ]
  },
  {
   "cell_type": "code",
   "execution_count": 133,
   "id": "e797e3bf-8f8f-4ace-8832-b9c64f41fd9c",
   "metadata": {},
   "outputs": [
    {
     "ename": "FrozenInstanceError",
     "evalue": "cannot assign to field 'age'",
     "output_type": "error",
     "traceback": [
      "\u001b[1;31m---------------------------------------------------------------------------\u001b[0m",
      "\u001b[1;31mFrozenInstanceError\u001b[0m                       Traceback (most recent call last)",
      "Cell \u001b[1;32mIn[133], line 1\u001b[0m\n\u001b[1;32m----> 1\u001b[0m person\u001b[38;5;241m.\u001b[39mage\u001b[38;5;241m=\u001b[39m\u001b[38;5;241m24\u001b[39m\n",
      "File \u001b[1;32m<string>:4\u001b[0m, in \u001b[0;36m__setattr__\u001b[1;34m(self, name, value)\u001b[0m\n",
      "\u001b[1;31mFrozenInstanceError\u001b[0m: cannot assign to field 'age'"
     ]
    }
   ],
   "source": [
    "person.age=24"
   ]
  },
  {
   "cell_type": "markdown",
   "id": "f2675785-ca95-4bd2-a611-a32ed8bbfe64",
   "metadata": {},
   "source": [
    "## Inheritance"
   ]
  },
  {
   "cell_type": "code",
   "execution_count": 134,
   "id": "f532871b-7ec8-46a9-9bb0-296ddb8bcd90",
   "metadata": {},
   "outputs": [
    {
     "ename": "TypeError",
     "evalue": "cannot inherit non-frozen dataclass from a frozen one",
     "output_type": "error",
     "traceback": [
      "\u001b[1;31m---------------------------------------------------------------------------\u001b[0m",
      "\u001b[1;31mTypeError\u001b[0m                                 Traceback (most recent call last)",
      "Cell \u001b[1;32mIn[134], line 1\u001b[0m\n\u001b[1;32m----> 1\u001b[0m \u001b[38;5;129m@dataclass\u001b[39m\n\u001b[0;32m      2\u001b[0m \u001b[38;5;28;01mclass\u001b[39;00m \u001b[38;5;21;01mEmployee\u001b[39;00m(Person):\n\u001b[0;32m      3\u001b[0m     employee_id:\u001b[38;5;28mint\u001b[39m\n\u001b[0;32m      4\u001b[0m     department:\u001b[38;5;28mstr\u001b[39m\n",
      "File \u001b[1;32mC:\\ProgramData\\anaconda3\\Lib\\dataclasses.py:1275\u001b[0m, in \u001b[0;36mdataclass\u001b[1;34m(cls, init, repr, eq, order, unsafe_hash, frozen, match_args, kw_only, slots, weakref_slot)\u001b[0m\n\u001b[0;32m   1272\u001b[0m     \u001b[38;5;28;01mreturn\u001b[39;00m wrap\n\u001b[0;32m   1274\u001b[0m \u001b[38;5;66;03m# We're called as @dataclass without parens.\u001b[39;00m\n\u001b[1;32m-> 1275\u001b[0m \u001b[38;5;28;01mreturn\u001b[39;00m wrap(\u001b[38;5;28mcls\u001b[39m)\n",
      "File \u001b[1;32mC:\\ProgramData\\anaconda3\\Lib\\dataclasses.py:1265\u001b[0m, in \u001b[0;36mdataclass.<locals>.wrap\u001b[1;34m(cls)\u001b[0m\n\u001b[0;32m   1264\u001b[0m \u001b[38;5;28;01mdef\u001b[39;00m \u001b[38;5;21mwrap\u001b[39m(\u001b[38;5;28mcls\u001b[39m):\n\u001b[1;32m-> 1265\u001b[0m     \u001b[38;5;28;01mreturn\u001b[39;00m _process_class(\u001b[38;5;28mcls\u001b[39m, init, \u001b[38;5;28mrepr\u001b[39m, eq, order, unsafe_hash,\n\u001b[0;32m   1266\u001b[0m                           frozen, match_args, kw_only, slots,\n\u001b[0;32m   1267\u001b[0m                           weakref_slot)\n",
      "File \u001b[1;32mC:\\ProgramData\\anaconda3\\Lib\\dataclasses.py:1024\u001b[0m, in \u001b[0;36m_process_class\u001b[1;34m(cls, init, repr, eq, order, unsafe_hash, frozen, match_args, kw_only, slots, weakref_slot)\u001b[0m\n\u001b[0;32m   1021\u001b[0m \u001b[38;5;28;01mif\u001b[39;00m has_dataclass_bases:\n\u001b[0;32m   1022\u001b[0m     \u001b[38;5;66;03m# Raise an exception if any of our bases are frozen, but we're not.\u001b[39;00m\n\u001b[0;32m   1023\u001b[0m     \u001b[38;5;28;01mif\u001b[39;00m any_frozen_base \u001b[38;5;129;01mand\u001b[39;00m \u001b[38;5;129;01mnot\u001b[39;00m frozen:\n\u001b[1;32m-> 1024\u001b[0m         \u001b[38;5;28;01mraise\u001b[39;00m \u001b[38;5;167;01mTypeError\u001b[39;00m(\u001b[38;5;124m'\u001b[39m\u001b[38;5;124mcannot inherit non-frozen dataclass from a \u001b[39m\u001b[38;5;124m'\u001b[39m\n\u001b[0;32m   1025\u001b[0m                         \u001b[38;5;124m'\u001b[39m\u001b[38;5;124mfrozen one\u001b[39m\u001b[38;5;124m'\u001b[39m)\n\u001b[0;32m   1027\u001b[0m     \u001b[38;5;66;03m# Raise an exception if we're frozen, but none of our bases are.\u001b[39;00m\n\u001b[0;32m   1028\u001b[0m     \u001b[38;5;28;01mif\u001b[39;00m \u001b[38;5;129;01mnot\u001b[39;00m any_frozen_base \u001b[38;5;129;01mand\u001b[39;00m frozen:\n",
      "\u001b[1;31mTypeError\u001b[0m: cannot inherit non-frozen dataclass from a frozen one"
     ]
    }
   ],
   "source": [
    "@dataclass\n",
    "class Employee(Person):\n",
    "    employee_id:int\n",
    "    department:str\n",
    "\n",
    "employee=Employee(30,\"Gaming\",\"Moonwalking\",24,\"AI\")"
   ]
  },
  {
   "cell_type": "raw",
   "id": "18d5fe6f-a916-4bd2-8331-fc586394771b",
   "metadata": {},
   "source": [
    "you cant inherit non-frozen dataclass from a frozen one"
   ]
  },
  {
   "cell_type": "code",
   "execution_count": 136,
   "id": "1c95a895-5453-4c10-899f-761de2ce0246",
   "metadata": {},
   "outputs": [],
   "source": [
    "@dataclass\n",
    "class Person:\n",
    "    age:int\n",
    "    hobby:str\n",
    "    name:str \n",
    "    \n",
    "@dataclass\n",
    "class Employee(Person):\n",
    "    employee_id:int\n",
    "    department:str\n",
    "\n",
    "employee=Employee(30,\"Gaming\",\"Moonwalking\",24,\"AI\")"
   ]
  },
  {
   "cell_type": "code",
   "execution_count": 137,
   "id": "c55a3afc-0c5c-4405-9518-4f37ee25e3b4",
   "metadata": {},
   "outputs": [
    {
     "data": {
      "text/plain": [
       "Employee(age=30, hobby='Gaming', name='Moonwalking', employee_id=24, department='AI')"
      ]
     },
     "execution_count": 137,
     "metadata": {},
     "output_type": "execute_result"
    }
   ],
   "source": [
    "employee"
   ]
  },
  {
   "cell_type": "markdown",
   "id": "f8589f10-71a1-448d-aaa6-ebb58400806b",
   "metadata": {},
   "source": [
    "## Nested Data Class"
   ]
  },
  {
   "cell_type": "code",
   "execution_count": 138,
   "id": "db9e3fb2-b17c-4c47-9900-47c9f010fbb4",
   "metadata": {},
   "outputs": [],
   "source": [
    "@dataclass \n",
    "class Address:\n",
    "    street:str\n",
    "    city:str\n",
    "    zip_code:str\n",
    "@dataclass\n",
    "class Person:\n",
    "    name:str\n",
    "    age:int\n",
    "    address:Address"
   ]
  },
  {
   "cell_type": "code",
   "execution_count": 139,
   "id": "e0a2957a-4155-457c-8c7a-3dc43b7ba0d1",
   "metadata": {},
   "outputs": [],
   "source": [
    "address=Address(\"123 Main street\",\"New york\",\"56600\")\n",
    "person=Person(\"Michael\",30,address)"
   ]
  },
  {
   "cell_type": "code",
   "execution_count": 140,
   "id": "f7201490-6050-4ef7-8f3e-fb7976a44080",
   "metadata": {},
   "outputs": [
    {
     "data": {
      "text/plain": [
       "Person(name='Michael', age=30, address=Address(street='123 Main street', city='New york', zip_code='56600'))"
      ]
     },
     "execution_count": 140,
     "metadata": {},
     "output_type": "execute_result"
    }
   ],
   "source": [
    "person"
   ]
  },
  {
   "cell_type": "code",
   "execution_count": null,
   "id": "d347e5ec-269e-42be-9dd4-2d3fece63813",
   "metadata": {},
   "outputs": [],
   "source": []
  }
 ],
 "metadata": {
  "kernelspec": {
   "display_name": "Python 3 (ipykernel)",
   "language": "python",
   "name": "python3"
  },
  "language_info": {
   "codemirror_mode": {
    "name": "ipython",
    "version": 3
   },
   "file_extension": ".py",
   "mimetype": "text/x-python",
   "name": "python",
   "nbconvert_exporter": "python",
   "pygments_lexer": "ipython3",
   "version": "3.12.4"
  }
 },
 "nbformat": 4,
 "nbformat_minor": 5
}
