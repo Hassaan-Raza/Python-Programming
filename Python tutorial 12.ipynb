{
 "cells": [
  {
   "cell_type": "raw",
   "id": "fdd5d947-6d0c-4c84-b4e1-b667136c4fbc",
   "metadata": {},
   "source": [
    "Static Methods\n",
    "\n",
    "Its faster than class method which is a methoc of class rather than method of an instance.\n",
    "\n",
    "when we make static methods, we dont provide self or cls to it\n",
    "\n",
    "As soon as the class is loaded, the first thing that would be initialized is the static method"
   ]
  },
  {
   "cell_type": "code",
   "execution_count": 1,
   "id": "78a6e2f8-5aac-4c17-9cfb-1855a3733f64",
   "metadata": {},
   "outputs": [],
   "source": [
    "import datetime\n",
    "now=datetime.datetime.now()"
   ]
  },
  {
   "cell_type": "code",
   "execution_count": 7,
   "id": "d4ea3b62-0c78-4da9-b9a4-5aa20863f1cb",
   "metadata": {},
   "outputs": [],
   "source": [
    "class Car:\n",
    "    base_price=10000\n",
    "    def __init__(self,windows,doors,power):\n",
    "        self.windows=windows\n",
    "        self.doors=doors\n",
    "        self.power=power\n",
    "    def what_base_price(self):\n",
    "        print(f\"The base prince is {self.base_price}\")\n",
    "    @classmethod\n",
    "    def revise_base_price(cls,inflation):\n",
    "        cls.base_price=cls.base_price+cls.base_price*inflation\n",
    "    @staticmethod\n",
    "    def check_year():\n",
    "        if now.year==2024:\n",
    "            return True\n",
    "        else:\n",
    "            return False"
   ]
  },
  {
   "cell_type": "code",
   "execution_count": 8,
   "id": "9598b286-8c67-423f-9be9-3890a977f6d4",
   "metadata": {},
   "outputs": [
    {
     "data": {
      "text/plain": [
       "True"
      ]
     },
     "execution_count": 8,
     "metadata": {},
     "output_type": "execute_result"
    }
   ],
   "source": [
    "Car.check_year()"
   ]
  },
  {
   "cell_type": "raw",
   "id": "cb4549a7-2604-40f4-8dbb-ce73e7fda826",
   "metadata": {},
   "source": [
    "OOPS - Multiple Inheritance in Python\n",
    "\n",
    "One class inheriting from 2 different base classes"
   ]
  },
  {
   "cell_type": "code",
   "execution_count": 10,
   "id": "0b4633f7-ec92-49bb-b61a-3f35df1c37c4",
   "metadata": {},
   "outputs": [],
   "source": [
    "class A:\n",
    "    def method1(self):\n",
    "        print(\"A class method\")"
   ]
  },
  {
   "cell_type": "code",
   "execution_count": 11,
   "id": "a2624b6e-257c-4971-ad50-8e55b1498460",
   "metadata": {},
   "outputs": [],
   "source": [
    "class B(A):\n",
    "    def method1(self):\n",
    "        print(\"B class method\")"
   ]
  },
  {
   "cell_type": "code",
   "execution_count": 12,
   "id": "923ec017-4f70-416b-8c44-0e0a6a300d48",
   "metadata": {},
   "outputs": [],
   "source": [
    "class C(A):\n",
    "    def method1(self):\n",
    "        print(\"C class method\")"
   ]
  },
  {
   "cell_type": "code",
   "execution_count": 23,
   "id": "87b86bae-e9a6-4d09-ba82-9c011b0cca45",
   "metadata": {},
   "outputs": [],
   "source": [
    "class D(B,C):\n",
    "    def method1(self):\n",
    "        print(\"D class method\")\n",
    "        ##C.method1(self) \n",
    "        ##B.method1(self)\n",
    "        ##A.method1(self)\n",
    "        ##these are used to call the parent methods within child method"
   ]
  },
  {
   "cell_type": "code",
   "execution_count": 24,
   "id": "7250c058-3d5f-4514-ac1d-6b4a3c07824c",
   "metadata": {},
   "outputs": [],
   "source": [
    "d=D()"
   ]
  },
  {
   "cell_type": "code",
   "execution_count": 25,
   "id": "acec1632-c9f0-4f9b-9e04-0b2e6f239434",
   "metadata": {},
   "outputs": [
    {
     "name": "stdout",
     "output_type": "stream",
     "text": [
      "D class method\n"
     ]
    }
   ],
   "source": [
    "d.method1()"
   ]
  },
  {
   "cell_type": "raw",
   "id": "ce30dc4b-dbb4-4612-ac08-982ec0bb8c99",
   "metadata": {},
   "source": [
    "how to call the method1 function of parent classes"
   ]
  },
  {
   "cell_type": "code",
   "execution_count": 26,
   "id": "5aa803bb-18b8-4751-a909-fd7752a3a02a",
   "metadata": {},
   "outputs": [
    {
     "name": "stdout",
     "output_type": "stream",
     "text": [
      "B class method\n"
     ]
    }
   ],
   "source": [
    "B.method1(d)"
   ]
  },
  {
   "cell_type": "code",
   "execution_count": 27,
   "id": "ba4987d6-4640-4202-9999-a7ac982df8d9",
   "metadata": {},
   "outputs": [
    {
     "name": "stdout",
     "output_type": "stream",
     "text": [
      "A class method\n"
     ]
    }
   ],
   "source": [
    "A.method1(d)"
   ]
  },
  {
   "cell_type": "raw",
   "id": "a9ffa6e2-649d-4ddc-89b0-c97afc7a585c",
   "metadata": {},
   "source": [
    "Python Eval Function -- Evaluating Expressions Dynamically\n",
    "\n",
    "Eval function evaluates python expression which are written as strings\n",
    "\n",
    "For example"
   ]
  },
  {
   "cell_type": "code",
   "execution_count": 29,
   "id": "e5e49a23-f5bb-4497-82b5-acd9958a6943",
   "metadata": {},
   "outputs": [
    {
     "data": {
      "text/plain": [
       "25"
      ]
     },
     "execution_count": 29,
     "metadata": {},
     "output_type": "execute_result"
    }
   ],
   "source": [
    "eval(\"5*5\")"
   ]
  },
  {
   "cell_type": "code",
   "execution_count": 31,
   "id": "4019356b-1a12-483a-9fb4-164ec029541a",
   "metadata": {},
   "outputs": [
    {
     "data": {
      "text/plain": [
       "28.5"
      ]
     },
     "execution_count": 31,
     "metadata": {},
     "output_type": "execute_result"
    }
   ],
   "source": [
    "eval(\"5*5+7/2\")"
   ]
  },
  {
   "cell_type": "code",
   "execution_count": 33,
   "id": "089c0e32-8417-4440-8a3e-690a281b0f85",
   "metadata": {},
   "outputs": [
    {
     "data": {
      "text/plain": [
       "5"
      ]
     },
     "execution_count": 33,
     "metadata": {},
     "output_type": "execute_result"
    }
   ],
   "source": [
    "eval(\"len([1,2,3,4,5])\")"
   ]
  },
  {
   "cell_type": "code",
   "execution_count": 35,
   "id": "cee90b49-9ff2-4df9-a3a0-83b3f28d94dd",
   "metadata": {},
   "outputs": [
    {
     "name": "stdin",
     "output_type": "stream",
     "text": [
      "Enter your python expression len(\"niggers\")\n"
     ]
    },
    {
     "data": {
      "text/plain": [
       "7"
      ]
     },
     "execution_count": 35,
     "metadata": {},
     "output_type": "execute_result"
    }
   ],
   "source": [
    "eval(input(\"Enter your python expression\"))"
   ]
  },
  {
   "cell_type": "raw",
   "id": "dad2abf8-b33c-4f0c-8a25-32b71dcfdcd0",
   "metadata": {},
   "source": [
    "How does eval() actually work?\n",
    "1. Parse python expression\n",
    "2. Compile into a byte code\n",
    "these 2 steps done by compile() function\n",
    "3. Evaluate the python expression\n",
    "4. It will return the result"
   ]
  },
  {
   "cell_type": "code",
   "execution_count": 39,
   "id": "2ac5a253-77f2-4c23-8e07-a2c7d0199eb1",
   "metadata": {},
   "outputs": [],
   "source": [
    "var=compile(\"5*5\",\"<string>\",\"eval\")"
   ]
  },
  {
   "cell_type": "code",
   "execution_count": 40,
   "id": "8b950659-4799-4f4d-8ff0-f1a5c69a8eff",
   "metadata": {},
   "outputs": [
    {
     "data": {
      "text/plain": [
       "<code object <module> at 0x00000243E1C0A590, file \"<string>\", line 1>"
      ]
     },
     "execution_count": 40,
     "metadata": {},
     "output_type": "execute_result"
    }
   ],
   "source": [
    "var"
   ]
  },
  {
   "cell_type": "code",
   "execution_count": 41,
   "id": "53384181-547e-4516-9654-67caead0135a",
   "metadata": {},
   "outputs": [
    {
     "data": {
      "text/plain": [
       "25"
      ]
     },
     "execution_count": 41,
     "metadata": {},
     "output_type": "execute_result"
    }
   ],
   "source": [
    "eval(var)"
   ]
  },
  {
   "cell_type": "raw",
   "id": "f84a6e77-90d9-4c15-931c-0f64db86acac",
   "metadata": {},
   "source": [
    "Globals\n",
    "This basically defines wether the variable used and made in the expression is global or not. done by making in key value pairs."
   ]
  },
  {
   "cell_type": "code",
   "execution_count": 42,
   "id": "78e61efb-9483-4c77-b09e-3e685d74c147",
   "metadata": {},
   "outputs": [
    {
     "data": {
      "text/plain": [
       "160"
      ]
     },
     "execution_count": 42,
     "metadata": {},
     "output_type": "execute_result"
    }
   ],
   "source": [
    "eval(\"x+50+x**2\",{\"x\":10})"
   ]
  },
  {
   "cell_type": "raw",
   "id": "89611541-e21c-4ceb-8582-49ee1d889880",
   "metadata": {},
   "source": [
    "If we want to define global variable outside we can do it but we would have to tell the function that the x in the expression refers to this variable"
   ]
  },
  {
   "cell_type": "code",
   "execution_count": 43,
   "id": "71b16115-ee1f-46cd-a9b5-4da2b439fa1f",
   "metadata": {},
   "outputs": [
    {
     "data": {
      "text/plain": [
       "160"
      ]
     },
     "execution_count": 43,
     "metadata": {},
     "output_type": "execute_result"
    }
   ],
   "source": [
    "y=10\n",
    "eval(\"x+50+x**2\",{\"x\":y})"
   ]
  },
  {
   "cell_type": "raw",
   "id": "4fa69d25-d751-413a-9b24-586130961277",
   "metadata": {},
   "source": [
    "the x in the \"\" refers to the variable used in the expression and y is the variable you want to assign to x\n",
    "\n",
    "if you want more than one global varaibles"
   ]
  },
  {
   "cell_type": "code",
   "execution_count": 45,
   "id": "55f4e0bb-57f3-46da-a724-a54a18fc3211",
   "metadata": {},
   "outputs": [
    {
     "data": {
      "text/plain": [
       "200"
      ]
     },
     "execution_count": 45,
     "metadata": {},
     "output_type": "execute_result"
    }
   ],
   "source": [
    "x=100\n",
    "z=100\n",
    "eval(\"x+z\",{\"x\":x,\"z\":z})"
   ]
  },
  {
   "cell_type": "raw",
   "id": "320a25a9-fbaa-4457-8398-326136819ba0",
   "metadata": {},
   "source": [
    "Locals"
   ]
  },
  {
   "cell_type": "code",
   "execution_count": 46,
   "id": "6b9cc06c-d930-4a71-8e02-fdfee25fcdb2",
   "metadata": {},
   "outputs": [
    {
     "data": {
      "text/plain": [
       "400"
      ]
     },
     "execution_count": 46,
     "metadata": {},
     "output_type": "execute_result"
    }
   ],
   "source": [
    "eval(\"a+b+c\",{},{\"a\":100,\"b\":200,\"c\":100})"
   ]
  },
  {
   "cell_type": "code",
   "execution_count": null,
   "id": "b5850ada-0ef8-49f4-bfbb-1248219acd3f",
   "metadata": {},
   "outputs": [],
   "source": []
  }
 ],
 "metadata": {
  "kernelspec": {
   "display_name": "Python 3 (ipykernel)",
   "language": "python",
   "name": "python3"
  },
  "language_info": {
   "codemirror_mode": {
    "name": "ipython",
    "version": 3
   },
   "file_extension": ".py",
   "mimetype": "text/x-python",
   "name": "python",
   "nbconvert_exporter": "python",
   "pygments_lexer": "ipython3",
   "version": "3.12.4"
  }
 },
 "nbformat": 4,
 "nbformat_minor": 5
}
