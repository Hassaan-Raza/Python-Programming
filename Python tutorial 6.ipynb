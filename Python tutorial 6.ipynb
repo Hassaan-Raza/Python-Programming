{
 "cells": [
  {
   "cell_type": "raw",
   "id": "b3672f69-abdc-4461-ba03-fb7ca33d4a7b",
   "metadata": {},
   "source": [
    "Categorical Plots\n",
    "Seaborn also helps us in doing analysis on Categorical Data points. In this section we will discuss about\n",
    "\n",
    "\n",
    "- boxplot\n",
    "- violinplot\n",
    "- countplot\n",
    "- bar plot"
   ]
  },
  {
   "cell_type": "raw",
   "id": "d895c0c3-cebd-4ef2-a79c-c09e257ab5fb",
   "metadata": {},
   "source": [
    "Count plot"
   ]
  },
  {
   "cell_type": "code",
   "execution_count": 1,
   "id": "54d8a976-02c0-4b5f-9cd6-005c8ecfab18",
   "metadata": {},
   "outputs": [],
   "source": [
    "import seaborn as sns"
   ]
  },
  {
   "cell_type": "code",
   "execution_count": null,
   "id": "04cfebde-5eeb-4944-af27-e3dffde942fb",
   "metadata": {},
   "outputs": [],
   "source": [
    "sns.countplot('sex',data=df)"
   ]
  },
  {
   "cell_type": "code",
   "execution_count": null,
   "id": "470d259e-d674-4f25-a507-e0b8ec2aa314",
   "metadata": {},
   "outputs": [],
   "source": [
    "sns.countplot(y='sex',data=df)"
   ]
  },
  {
   "cell_type": "code",
   "execution_count": null,
   "id": "21bedad6-f5bd-4820-a423-b94e462da519",
   "metadata": {},
   "outputs": [],
   "source": [
    "sns.countplot('smoker',data=df)"
   ]
  },
  {
   "cell_type": "code",
   "execution_count": null,
   "id": "15e36b75-38ba-4295-afea-b0a511e4bd14",
   "metadata": {},
   "outputs": [],
   "source": [
    "sns.countplot('day',data=df)"
   ]
  },
  {
   "cell_type": "raw",
   "id": "9dceb6ce-e1c0-4621-a2f3-d74633629bde",
   "metadata": {},
   "source": [
    "Bar Plot"
   ]
  },
  {
   "cell_type": "code",
   "execution_count": null,
   "id": "f0cc4407-38ac-477a-9d97-543ff1820050",
   "metadata": {},
   "outputs": [],
   "source": [
    "sns.barplot(x='total_bill',y='sex',data=df)"
   ]
  },
  {
   "cell_type": "code",
   "execution_count": null,
   "id": "23631388-436f-4f97-8a9d-0b9c3dda557d",
   "metadata": {},
   "outputs": [],
   "source": [
    "sns.barplot(y='total_bill',x='smoker',data=df)"
   ]
  },
  {
   "cell_type": "raw",
   "id": "ec739467-08b8-43b1-ada5-304fb2c6d905",
   "metadata": {},
   "source": [
    "Box Plot\n",
    "\n",
    "A box and whisker plot (sometimes called a boxplot) is a graph that presents information from a five-number summary."
   ]
  },
  {
   "cell_type": "code",
   "execution_count": null,
   "id": "2c8c96de-a29b-4ed4-98d9-d300dddab9d3",
   "metadata": {},
   "outputs": [],
   "source": [
    "sns.boxplot('smoker','total_bill',data=df)"
   ]
  },
  {
   "cell_type": "code",
   "execution_count": null,
   "id": "a531c16e-33c5-4083-a4b4-7724eca08fb3",
   "metadata": {},
   "outputs": [],
   "source": [
    "sns.boxplot(x=\"day\",y=\"total_bill\",data=df,palette='rainbow')"
   ]
  },
  {
   "cell_type": "code",
   "execution_count": null,
   "id": "e6891a7d-e4ca-46c3-92fe-b71c7c3eaeb9",
   "metadata": {},
   "outputs": [],
   "source": [
    "sns.boxplot(data=df,orient='v')"
   ]
  },
  {
   "cell_type": "raw",
   "id": "7f7fb300-2ca9-456b-99ff-efb015aaaf36",
   "metadata": {},
   "source": [
    "Violin plot\n",
    "Violin plot helps us to see both the distribution of data in terms of Kernel desnsity estimation and the box plot"
   ]
  },
  {
   "cell_type": "code",
   "execution_count": null,
   "id": "63b4a42b-9642-41b8-beaf-2dfb6285e9c6",
   "metadata": {},
   "outputs": [],
   "source": [
    "sns.violinplot(x=\"total_bill\",y=\"day\",data=df,palette='rainbow')"
   ]
  },
  {
   "cell_type": "code",
   "execution_count": null,
   "id": "dff937b7-e44b-468d-a7e8-0a50305ac9cf",
   "metadata": {},
   "outputs": [],
   "source": []
  },
  {
   "cell_type": "code",
   "execution_count": null,
   "id": "a5026f54-6054-4010-a560-507870f24299",
   "metadata": {},
   "outputs": [],
   "source": []
  }
 ],
 "metadata": {
  "kernelspec": {
   "display_name": "Python 3 (ipykernel)",
   "language": "python",
   "name": "python3"
  },
  "language_info": {
   "codemirror_mode": {
    "name": "ipython",
    "version": 3
   },
   "file_extension": ".py",
   "mimetype": "text/x-python",
   "name": "python",
   "nbconvert_exporter": "python",
   "pygments_lexer": "ipython3",
   "version": "3.12.4"
  }
 },
 "nbformat": 4,
 "nbformat_minor": 5
}
