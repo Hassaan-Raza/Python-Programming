{
 "cells": [
  {
   "cell_type": "raw",
   "id": "b6aae2b4-9569-4569-bf4f-0f6783aed3a3",
   "metadata": {},
   "source": [
    "Functions in Python\n",
    "\n",
    "- Why Functions\n",
    "- Function Definition\n",
    "- Positional and Keyword Argument in Functions"
   ]
  },
  {
   "cell_type": "raw",
   "id": "10afd18b-96f5-4861-9cec-e0c5fa6cf575",
   "metadata": {},
   "source": [
    "Functions increase the code reusability, it makes it easier to use a block of code again and again"
   ]
  },
  {
   "cell_type": "code",
   "execution_count": 1,
   "id": "a4224fd0-b309-4226-919a-f7a6083acf35",
   "metadata": {},
   "outputs": [],
   "source": [
    "def even_odd(num):\n",
    "    if num%2==0:\n",
    "        print(\"The number is even\")\n",
    "    else:\n",
    "        print(\"The number is odd\")"
   ]
  },
  {
   "cell_type": "code",
   "execution_count": 2,
   "id": "b50eb129-b268-4f75-bfb2-092fbd831b7d",
   "metadata": {},
   "outputs": [
    {
     "name": "stdout",
     "output_type": "stream",
     "text": [
      "The number is even\n"
     ]
    }
   ],
   "source": [
    "even_odd(4)"
   ]
  },
  {
   "cell_type": "code",
   "execution_count": 3,
   "id": "45736085-b1c6-487c-8e20-b348bb676e17",
   "metadata": {},
   "outputs": [],
   "source": [
    "def hello_world():\n",
    "    print(\"Hello World\")"
   ]
  },
  {
   "cell_type": "code",
   "execution_count": 4,
   "id": "696d1861-597d-4010-9360-9b92c0668545",
   "metadata": {},
   "outputs": [
    {
     "name": "stdout",
     "output_type": "stream",
     "text": [
      "Hello World\n"
     ]
    }
   ],
   "source": [
    "hello_world()"
   ]
  },
  {
   "cell_type": "code",
   "execution_count": 5,
   "id": "5f5fabc6-0803-4a7f-8c32-d33a05ad6f60",
   "metadata": {},
   "outputs": [],
   "source": [
    "def hello(*args,**kwargs):\n",
    "    print(args)\n",
    "    print(kwargs)\n",
    "    ## *args is positional arguments, **kwargs is keyword arguments"
   ]
  },
  {
   "cell_type": "code",
   "execution_count": 6,
   "id": "bd15d24e-f6b7-450c-bf33-d1e53be68baa",
   "metadata": {},
   "outputs": [
    {
     "name": "stdout",
     "output_type": "stream",
     "text": [
      "('John', 'Borris')\n",
      "{'age': 30, 'dob': 1994}\n"
     ]
    }
   ],
   "source": [
    "hello('John','Borris',age=30,dob=1994)"
   ]
  },
  {
   "cell_type": "code",
   "execution_count": 9,
   "id": "c00412ce-db03-4a0c-ac7c-6b16974dbea0",
   "metadata": {},
   "outputs": [],
   "source": [
    "lst=['John','Borris']\n",
    "dict_args={'age':30,'dob':1994}"
   ]
  },
  {
   "cell_type": "code",
   "execution_count": 12,
   "id": "0308aa11-afdb-4e52-97ff-b9853439fba2",
   "metadata": {},
   "outputs": [
    {
     "name": "stdout",
     "output_type": "stream",
     "text": [
      "('John', 'Borris')\n",
      "{'age': 30, 'dob': 1994}\n"
     ]
    }
   ],
   "source": [
    "hello(*lst,**dict_args)"
   ]
  },
  {
   "cell_type": "code",
   "execution_count": 16,
   "id": "e9a8d562-3099-4bdf-bc2f-99ea9b45b115",
   "metadata": {},
   "outputs": [],
   "source": [
    "lst=[1,2,3,4,5,6,7]                                "
   ]
  },
  {
   "cell_type": "code",
   "execution_count": 21,
   "id": "2985c34b-2496-4b8d-91ca-3d7b5492a69f",
   "metadata": {},
   "outputs": [],
   "source": [
    "def evenoddsum(lst):\n",
    "    even_sum = 0\n",
    "    odd_sum = 0\n",
    "    for i in lst:\n",
    "        if i % 2 == 0:\n",
    "            even_sum += i\n",
    "        else:\n",
    "            odd_sum += i\n",
    "    return even_sum, odd_sum"
   ]
  },
  {
   "cell_type": "code",
   "execution_count": 24,
   "id": "0eafded6-911b-401a-9116-7362921ad0c0",
   "metadata": {},
   "outputs": [
    {
     "data": {
      "text/plain": [
       "(12, 16)"
      ]
     },
     "execution_count": 24,
     "metadata": {},
     "output_type": "execute_result"
    }
   ],
   "source": [
    "evenoddsum(lst)"
   ]
  },
  {
   "cell_type": "raw",
   "id": "d41d5ccf-9acc-4f1c-96e4-bbcac8206901",
   "metadata": {},
   "source": [
    "Lambda function\n",
    "\n",
    "also called anonymous function.\n",
    "\n",
    "A function with no name"
   ]
  },
  {
   "cell_type": "code",
   "execution_count": 26,
   "id": "d5699eee-7d9e-4b20-a917-d8ab726232be",
   "metadata": {},
   "outputs": [],
   "source": [
    "addition=lambda a,b:a+b"
   ]
  },
  {
   "cell_type": "code",
   "execution_count": 28,
   "id": "8905f16a-839b-42f1-b107-dad57c9f3dcb",
   "metadata": {},
   "outputs": [
    {
     "data": {
      "text/plain": [
       "3"
      ]
     },
     "execution_count": 28,
     "metadata": {},
     "output_type": "execute_result"
    }
   ],
   "source": [
    "addition(1,2)"
   ]
  },
  {
   "cell_type": "raw",
   "id": "602194df-3b86-4efe-87ab-4f306ee61079",
   "metadata": {},
   "source": [
    "Lambda function only possible when you have one line expression"
   ]
  },
  {
   "cell_type": "code",
   "execution_count": 29,
   "id": "7ee6755d-fb56-4e41-a772-7753a09e3b53",
   "metadata": {},
   "outputs": [],
   "source": [
    "even=lambda a:a%2==0"
   ]
  },
  {
   "cell_type": "code",
   "execution_count": 30,
   "id": "84e8f69d-6c09-4ecf-85e5-fc44bc38acfd",
   "metadata": {},
   "outputs": [
    {
     "data": {
      "text/plain": [
       "True"
      ]
     },
     "execution_count": 30,
     "metadata": {},
     "output_type": "execute_result"
    }
   ],
   "source": [
    "even(2)\n",
    "     "
   ]
  },
  {
   "cell_type": "raw",
   "id": "14c9e164-7210-4b72-a2c3-6bf1b590bd9f",
   "metadata": {},
   "source": [
    "Map Function in Python\n",
    "This helps us not having to iterate through a whole list and use a function to be applied on the whole\n"
   ]
  },
  {
   "cell_type": "code",
   "execution_count": 32,
   "id": "3e45a030-cbd2-41d2-90c6-02446c9cdba7",
   "metadata": {},
   "outputs": [],
   "source": [
    "def even_or_odd(num):\n",
    "    if num%2==0:\n",
    "        return 'even'\n",
    "    else:\n",
    "        return 'odd'"
   ]
  },
  {
   "cell_type": "code",
   "execution_count": 33,
   "id": "0f74b1a6-bd6b-4edc-b7c4-34961549d6ce",
   "metadata": {},
   "outputs": [
    {
     "data": {
      "text/plain": [
       "'even'"
      ]
     },
     "execution_count": 33,
     "metadata": {},
     "output_type": "execute_result"
    }
   ],
   "source": [
    "even_or_odd(2)"
   ]
  },
  {
   "cell_type": "code",
   "execution_count": 34,
   "id": "08bd0d89-0f5c-4f66-aa4f-1509dd05b5b1",
   "metadata": {},
   "outputs": [],
   "source": [
    "lst=[1,2,3,4,5,6,7,8,9,24,56,78]"
   ]
  },
  {
   "cell_type": "code",
   "execution_count": 35,
   "id": "afca1d45-2117-4a9d-875b-e8e527a18726",
   "metadata": {},
   "outputs": [
    {
     "data": {
      "text/plain": [
       "<map at 0x19d5f671180>"
      ]
     },
     "execution_count": 35,
     "metadata": {},
     "output_type": "execute_result"
    }
   ],
   "source": [
    "map(even_or_odd,lst)"
   ]
  },
  {
   "cell_type": "code",
   "execution_count": null,
   "id": "edbc39a5-1c06-47d2-8b61-b02491a625ce",
   "metadata": {},
   "outputs": [],
   "source": [
    "list(map(even_or_odd,lst))"
   ]
  },
  {
   "cell_type": "raw",
   "id": "9efb0ea8-4f58-45d3-8768-bdb076dcb0ed",
   "metadata": {},
   "source": [
    "Filter Function in Python\n",
    "\n",
    "This basically filters the values that satisfy the condition or give True as return"
   ]
  },
  {
   "cell_type": "code",
   "execution_count": 39,
   "id": "822970bb-60f1-49d8-a814-656b95f200b4",
   "metadata": {},
   "outputs": [],
   "source": [
    "def even(num):\n",
    "    if num%2==0:\n",
    "        return 'even'"
   ]
  },
  {
   "cell_type": "code",
   "execution_count": 40,
   "id": "681b3e8f-4a25-4822-bb7e-5e27f10c7083",
   "metadata": {},
   "outputs": [
    {
     "data": {
      "text/plain": [
       "<filter at 0x19d5f3e92d0>"
      ]
     },
     "execution_count": 40,
     "metadata": {},
     "output_type": "execute_result"
    }
   ],
   "source": [
    "filter(even,lst)"
   ]
  },
  {
   "cell_type": "raw",
   "id": "c85cce11-e156-4caa-a70e-db2f2386b419",
   "metadata": {},
   "source": [
    "list(filter(even,lst))"
   ]
  },
  {
   "cell_type": "code",
   "execution_count": 44,
   "id": "fdf1b185-c18c-4d0c-9d1b-09045d8fe2ac",
   "metadata": {},
   "outputs": [
    {
     "data": {
      "text/plain": [
       "[2, 4, 6, 8, 24, 56, 78]"
      ]
     },
     "execution_count": 44,
     "metadata": {},
     "output_type": "execute_result"
    }
   ],
   "source": [
    "list(filter(lambda num:num%2==0,lst))"
   ]
  },
  {
   "cell_type": "raw",
   "id": "23d1882a-71d7-4403-b19e-dbf75bc030b8",
   "metadata": {},
   "source": [
    "List Comprehension\n",
    "\n",
    "List comprehension provide a concise way to create lists. It consists of brackets containing an expression followed by a for clause, then zero or more for or if clauses. The expression can be anything, meaning you can put all kinds of objects in lists."
   ]
  },
  {
   "cell_type": "code",
   "execution_count": 45,
   "id": "4ee8524a-2278-45f4-be30-a5898d71e473",
   "metadata": {},
   "outputs": [],
   "source": [
    "lst1=[]\n",
    "def lst_square(lst):\n",
    "    for i in lst:\n",
    "        lst1.append(i*i)\n",
    "    return lst1"
   ]
  },
  {
   "cell_type": "code",
   "execution_count": 46,
   "id": "c8dd1f41-e669-4f49-8bb4-cc663b67859b",
   "metadata": {},
   "outputs": [
    {
     "data": {
      "text/plain": [
       "[1, 4, 9, 16, 25, 36, 49]"
      ]
     },
     "execution_count": 46,
     "metadata": {},
     "output_type": "execute_result"
    }
   ],
   "source": [
    "lst_square([1,2,3,4,5,6,7])"
   ]
  },
  {
   "cell_type": "raw",
   "id": "1415aa08-a012-4877-8630-123a604dad47",
   "metadata": {},
   "source": [
    "that is a long way to do this, we are writing so many lines of code just to do that. Lets use list comprehension to reduce this"
   ]
  },
  {
   "cell_type": "code",
   "execution_count": 52,
   "id": "139d1418-c44c-4c6c-896d-dbf752307677",
   "metadata": {},
   "outputs": [
    {
     "data": {
      "text/plain": [
       "[144, 15129, 144, 97344, 10323369]"
      ]
     },
     "execution_count": 52,
     "metadata": {},
     "output_type": "execute_result"
    }
   ],
   "source": [
    "lst=[12,123,12,312,3213]\n",
    "[i*i for i in lst] ## this is list comprehension"
   ]
  },
  {
   "cell_type": "code",
   "execution_count": 53,
   "id": "95560bda-dbe7-4723-8a98-43da82d2a855",
   "metadata": {},
   "outputs": [
    {
     "data": {
      "text/plain": [
       "[144, 144, 97344]"
      ]
     },
     "execution_count": 53,
     "metadata": {},
     "output_type": "execute_result"
    }
   ],
   "source": [
    "[i*i for i in lst if i%2==0] "
   ]
  },
  {
   "cell_type": "raw",
   "id": "2ea993d5-c6d3-4b0e-b405-176744e6d77f",
   "metadata": {},
   "source": [
    "String Formatting in Python"
   ]
  },
  {
   "cell_type": "code",
   "execution_count": 54,
   "id": "4e8dea5d-cdb1-476c-b692-4e3dcc557e49",
   "metadata": {},
   "outputs": [],
   "source": [
    "def greeting(name):\n",
    "    return \"Hello {}.Welcome\".format(name)"
   ]
  },
  {
   "cell_type": "code",
   "execution_count": 59,
   "id": "45c33b2b-0084-4de4-a5b1-c62c41d5df3c",
   "metadata": {},
   "outputs": [],
   "source": [
    "name=greeting('Michael')"
   ]
  },
  {
   "cell_type": "code",
   "execution_count": 58,
   "id": "ae82ad4d-57ba-4733-9a03-0554c04eafa2",
   "metadata": {},
   "outputs": [
    {
     "data": {
      "text/plain": [
       "'Hello moon.Welcome'"
      ]
     },
     "execution_count": 58,
     "metadata": {},
     "output_type": "execute_result"
    }
   ],
   "source": [
    "greeting(\"moon\")"
   ]
  },
  {
   "cell_type": "code",
   "execution_count": 60,
   "id": "1a3076f7-bb8b-4e33-aaaa-654b9858c58b",
   "metadata": {},
   "outputs": [],
   "source": [
    "def greetings(first_name,last_name):\n",
    "    return \"Hello {}{}.Welcome\".format(first_name,last_name)"
   ]
  },
  {
   "cell_type": "code",
   "execution_count": 61,
   "id": "e1edd0c7-8142-4e3f-b917-278fc7a98902",
   "metadata": {},
   "outputs": [
    {
     "data": {
      "text/plain": [
       "'Hello MoonWalking.Welcome'"
      ]
     },
     "execution_count": 61,
     "metadata": {},
     "output_type": "execute_result"
    }
   ],
   "source": [
    "greetings('Moon','Walking')"
   ]
  },
  {
   "cell_type": "code",
   "execution_count": 69,
   "id": "3b135a10-935d-4442-99c0-200f9e445569",
   "metadata": {},
   "outputs": [],
   "source": [
    "def greeting2(first_name,last_name):\n",
    "    return \"Hello {first}{last}.Welcome\".format(first=first_name,last=last_name)"
   ]
  },
  {
   "cell_type": "code",
   "execution_count": 70,
   "id": "7038f5b4-99ce-491a-a9a3-24b093b4e240",
   "metadata": {},
   "outputs": [
    {
     "data": {
      "text/plain": [
       "'Hello WalkingMoon.Welcome'"
      ]
     },
     "execution_count": 70,
     "metadata": {},
     "output_type": "execute_result"
    }
   ],
   "source": [
    "greeting2(\"Moon\",\"Walking\")"
   ]
  },
  {
   "cell_type": "code",
   "execution_count": 72,
   "id": "cb8e239e-a666-4764-a986-995bc9081d9e",
   "metadata": {},
   "outputs": [],
   "source": [
    "def greeting2(first_name,last_name):\n",
    "    return \"Hello {last}{first}.Welcome\".format(first=first_name,last=last_name)"
   ]
  },
  {
   "cell_type": "code",
   "execution_count": 73,
   "id": "1bf3202f-31d0-400c-b9ba-2ce6c192496a",
   "metadata": {},
   "outputs": [
    {
     "data": {
      "text/plain": [
       "'Hello WalkingMoon.Welcome'"
      ]
     },
     "execution_count": 73,
     "metadata": {},
     "output_type": "execute_result"
    }
   ],
   "source": [
    "greeting2(\"Moon\",\"Walking\")"
   ]
  },
  {
   "cell_type": "raw",
   "id": "392ce065-1ba6-4000-854b-b059bef5cb7a",
   "metadata": {},
   "source": [
    "Python List Iterables VS Iterators\n",
    "\n",
    "list is iterable\n",
    "meaning they can be accessed by iterating through the list"
   ]
  },
  {
   "cell_type": "code",
   "execution_count": 74,
   "id": "f68fd78e-e1c9-4a98-bb13-8b7e91ecd18a",
   "metadata": {},
   "outputs": [],
   "source": [
    "lst=[1,2,3,4,5,6,7,8]"
   ]
  },
  {
   "cell_type": "code",
   "execution_count": 75,
   "id": "700842e4-1630-42f9-a701-e012b546481f",
   "metadata": {},
   "outputs": [
    {
     "data": {
      "text/plain": [
       "<list_iterator at 0x19d5f33ab30>"
      ]
     },
     "execution_count": 75,
     "metadata": {},
     "output_type": "execute_result"
    }
   ],
   "source": [
    "iter(lst)"
   ]
  },
  {
   "cell_type": "raw",
   "id": "0ca947c0-4a62-4ab3-a524-e379e7a56dc5",
   "metadata": {},
   "source": [
    "iter() function is an iterator. it converts an iterable into iterator function"
   ]
  },
  {
   "cell_type": "code",
   "execution_count": 79,
   "id": "e0220f57-263f-4987-a595-a277e4619212",
   "metadata": {},
   "outputs": [],
   "source": [
    "list=iter(lst)"
   ]
  },
  {
   "cell_type": "code",
   "execution_count": 80,
   "id": "d2ed5ace-e760-4501-b315-b7905433006a",
   "metadata": {},
   "outputs": [
    {
     "data": {
      "text/plain": [
       "1"
      ]
     },
     "execution_count": 80,
     "metadata": {},
     "output_type": "execute_result"
    }
   ],
   "source": [
    "next(list)"
   ]
  },
  {
   "cell_type": "raw",
   "id": "893dbc08-b7db-40b0-b0b4-b14de7e1ae24",
   "metadata": {},
   "source": [
    "Main functionality of iterator is that whatever value is there inside it, it will not get stored or initialized in the memory at once, only one by one, this saves memory.\n",
    "Iterables can also be run through a for loop and the elements can be retrieved and for iterators also, for loops can be implemented and the elements can be retrieved "
   ]
  },
  {
   "cell_type": "code",
   "execution_count": 81,
   "id": "3ca5be9c-84d3-4ba5-9552-0bb525a4e289",
   "metadata": {},
   "outputs": [
    {
     "name": "stdout",
     "output_type": "stream",
     "text": [
      "2\n",
      "3\n",
      "4\n",
      "5\n",
      "6\n",
      "7\n",
      "8\n"
     ]
    }
   ],
   "source": [
    "for i in list:\n",
    "    print(i)"
   ]
  },
  {
   "cell_type": "raw",
   "id": "cbe091ef-cc47-4772-a355-aff08844149e",
   "metadata": {},
   "source": [
    "why we didnt get 1 is because i executed one next statement then the pointer went to second element, so on so forth"
   ]
  },
  {
   "cell_type": "code",
   "execution_count": null,
   "id": "1d34817b-526b-4787-9d37-9a5bfd2f77c1",
   "metadata": {},
   "outputs": [],
   "source": []
  }
 ],
 "metadata": {
  "kernelspec": {
   "display_name": "Python 3 (ipykernel)",
   "language": "python",
   "name": "python3"
  },
  "language_info": {
   "codemirror_mode": {
    "name": "ipython",
    "version": 3
   },
   "file_extension": ".py",
   "mimetype": "text/x-python",
   "name": "python",
   "nbconvert_exporter": "python",
   "pygments_lexer": "ipython3",
   "version": "3.12.4"
  }
 },
 "nbformat": 4,
 "nbformat_minor": 5
}
