{
 "cells": [
  {
   "cell_type": "raw",
   "id": "963ec3eb-d9ce-4091-8bae-3934c0d2f8bc",
   "metadata": {},
   "source": [
    "Custom Exception"
   ]
  },
  {
   "cell_type": "code",
   "execution_count": 1,
   "id": "437ec588-3285-4d27-ad7d-57e7510d27fb",
   "metadata": {},
   "outputs": [],
   "source": [
    "class Error(Exception):\n",
    "    pass\n",
    "\n",
    "class dobException(Error):\n",
    "    pass\n",
    "\n"
   ]
  },
  {
   "cell_type": "code",
   "execution_count": 9,
   "id": "49825816-608c-4495-9ea1-bff908240937",
   "metadata": {},
   "outputs": [
    {
     "name": "stdin",
     "output_type": "stream",
     "text": [
      "Enter year 2004\n"
     ]
    },
    {
     "name": "stdout",
     "output_type": "stream",
     "text": [
      "The year age is valid\n"
     ]
    }
   ],
   "source": [
    "year=int(input(\"Enter year\"))\n",
    "age=2024-year\n",
    "try:\n",
    "    if age<=30 & age>=20:\n",
    "        print(\"The year age is valid\")\n",
    "    else:\n",
    "        raise dobException\n",
    "except:\n",
    "    print(\"The year age is not valid\")"
   ]
  },
  {
   "cell_type": "raw",
   "id": "fdacbcee-65ae-45d0-8495-55a8b3a7f2da",
   "metadata": {},
   "source": [
    "Inheritance in python"
   ]
  },
  {
   "cell_type": "code",
   "execution_count": 10,
   "id": "8c45a73f-2231-410f-b311-80a5edb1d57c",
   "metadata": {},
   "outputs": [],
   "source": [
    "class Car():\n",
    "    def __init__(self,windows,doors,enginetype):\n",
    "        self.windows=windows\n",
    "        self.doors=doors\n",
    "        self.enginetype=enginetype\n",
    "    def drive():\n",
    "            print(\"The Person is driving the car\")"
   ]
  },
  {
   "cell_type": "code",
   "execution_count": 11,
   "id": "fe6ab6e9-e910-426a-a95b-08421ca52c15",
   "metadata": {},
   "outputs": [],
   "source": [
    "car=Car(4,4,\"petrol\")"
   ]
  },
  {
   "cell_type": "code",
   "execution_count": 22,
   "id": "7e146537-aa98-4938-a8fc-e57d55607aea",
   "metadata": {},
   "outputs": [],
   "source": [
    "class audi(Car):\n",
    "    def __init__(self,windows,doors,enginetype,enableai):\n",
    "        super().__init__(windows,doors,enginetype)\n",
    "        self.enableai=enableai\n",
    "    def selfdriving(self):\n",
    "        if self.enableai==True:\n",
    "            print(\"Self Driving On\")\n",
    "        else:\n",
    "            print(\"Self Driving not possible\")"
   ]
  },
  {
   "cell_type": "code",
   "execution_count": 23,
   "id": "0c9eb007-6a00-4e4c-af31-f53d8f9382e7",
   "metadata": {},
   "outputs": [],
   "source": [
    "audiQ5=audi(4,4,\"electric\",False)"
   ]
  },
  {
   "cell_type": "code",
   "execution_count": 24,
   "id": "7e831250-7ee6-48b2-99a0-2d1005102f06",
   "metadata": {},
   "outputs": [
    {
     "data": {
      "text/plain": [
       "False"
      ]
     },
     "execution_count": 24,
     "metadata": {},
     "output_type": "execute_result"
    }
   ],
   "source": [
    "audiQ5.enableai"
   ]
  },
  {
   "cell_type": "code",
   "execution_count": 25,
   "id": "342f2d79-82fa-413b-8c70-8027d3b0cacb",
   "metadata": {},
   "outputs": [
    {
     "name": "stdout",
     "output_type": "stream",
     "text": [
      "Self Driving not possible\n"
     ]
    }
   ],
   "source": [
    "audiQ5.selfdriving()"
   ]
  },
  {
   "cell_type": "raw",
   "id": "698719f7-dc0e-46f0-a036-89f34da268aa",
   "metadata": {},
   "source": [
    "Python Magic Methods in Classes"
   ]
  },
  {
   "cell_type": "code",
   "execution_count": 26,
   "id": "0b552954-be0b-4347-96f8-ac274b5f3dcf",
   "metadata": {},
   "outputs": [
    {
     "data": {
      "text/plain": [
       "['__class__',\n",
       " '__delattr__',\n",
       " '__dict__',\n",
       " '__dir__',\n",
       " '__doc__',\n",
       " '__eq__',\n",
       " '__format__',\n",
       " '__ge__',\n",
       " '__getattribute__',\n",
       " '__getstate__',\n",
       " '__gt__',\n",
       " '__hash__',\n",
       " '__init__',\n",
       " '__init_subclass__',\n",
       " '__le__',\n",
       " '__lt__',\n",
       " '__module__',\n",
       " '__ne__',\n",
       " '__new__',\n",
       " '__reduce__',\n",
       " '__reduce_ex__',\n",
       " '__repr__',\n",
       " '__setattr__',\n",
       " '__sizeof__',\n",
       " '__str__',\n",
       " '__subclasshook__',\n",
       " '__weakref__',\n",
       " 'doors',\n",
       " 'drive',\n",
       " 'enableai',\n",
       " 'enginetype',\n",
       " 'selfdriving',\n",
       " 'windows']"
      ]
     },
     "execution_count": 26,
     "metadata": {},
     "output_type": "execute_result"
    }
   ],
   "source": [
    "dir(audiQ5)"
   ]
  },
  {
   "cell_type": "raw",
   "id": "372bb841-1a29-45e4-a8c8-c140d19f3920",
   "metadata": {},
   "source": [
    "These are magic methods in class, they can be overriden"
   ]
  },
  {
   "cell_type": "raw",
   "id": "dcfb5d38-8cd7-4c66-ad4d-fb8cacbeb25d",
   "metadata": {},
   "source": [
    "Python Assert\n",
    "\n",
    "Python provides assert statement to check if a given logical expression is true or not.\n",
    "Program execution proceeds only if the expression is true and raises the AssertionError when it is false. The following code shows the usage"
   ]
  },
  {
   "cell_type": "code",
   "execution_count": 28,
   "id": "effd28c2-7740-4d49-8b0a-9ea6d2e2a346",
   "metadata": {},
   "outputs": [
    {
     "ename": "AssertionError",
     "evalue": "",
     "output_type": "error",
     "traceback": [
      "\u001b[1;31m---------------------------------------------------------------------------\u001b[0m",
      "\u001b[1;31mAssertionError\u001b[0m                            Traceback (most recent call last)",
      "Cell \u001b[1;32mIn[28], line 2\u001b[0m\n\u001b[0;32m      1\u001b[0m num\u001b[38;5;241m=\u001b[39m\u001b[38;5;241m10\u001b[39m\n\u001b[1;32m----> 2\u001b[0m \u001b[38;5;28;01massert\u001b[39;00m num\u001b[38;5;241m>\u001b[39m\u001b[38;5;241m=\u001b[39m\u001b[38;5;241m104\u001b[39m\n",
      "\u001b[1;31mAssertionError\u001b[0m: "
     ]
    }
   ],
   "source": [
    "num=10\n",
    "assert num>=104"
   ]
  },
  {
   "cell_type": "raw",
   "id": "d11d0a2a-3db9-4346-a4c2-3cf44aedaaba",
   "metadata": {},
   "source": [
    "It is a type of exception handling that you apply to a logical expression"
   ]
  },
  {
   "cell_type": "code",
   "execution_count": 31,
   "id": "4e43cd2a-c3e2-4a66-91b3-62088de693e1",
   "metadata": {},
   "outputs": [
    {
     "name": "stdin",
     "output_type": "stream",
     "text": [
      "Enter number 11\n"
     ]
    },
    {
     "name": "stdout",
     "output_type": "stream",
     "text": [
      "Enter even number please\n"
     ]
    }
   ],
   "source": [
    "try:\n",
    "    num=int(input(\"Enter number\"))\n",
    "    assert num%2==0\n",
    "    print(\"Number Even\")\n",
    "except:\n",
    "    print(\"Enter even number please\")"
   ]
  },
  {
   "cell_type": "raw",
   "id": "a6fe2f94-780f-4b04-b4f1-83055722347c",
   "metadata": {},
   "source": []
  },
  {
   "cell_type": "raw",
   "id": "f617bba1-5d80-45be-8130-8f39dab23067",
   "metadata": {},
   "source": [
    "Python Generators VS Iterators"
   ]
  },
  {
   "cell_type": "raw",
   "id": "7a9a6602-7efd-4d04-b3b9-6e54b174c7e5",
   "metadata": {},
   "source": [
    "We create a iterator with the help of generator"
   ]
  },
  {
   "cell_type": "code",
   "execution_count": 33,
   "id": "fef0e0b9-b6de-4c24-9267-fc37334d15ef",
   "metadata": {},
   "outputs": [],
   "source": [
    "def square(n):\n",
    "    for i in range(n):\n",
    "        return i**2"
   ]
  },
  {
   "cell_type": "code",
   "execution_count": 34,
   "id": "7ee483ab-57d5-4bad-8d2f-b79676db456c",
   "metadata": {},
   "outputs": [
    {
     "data": {
      "text/plain": [
       "0"
      ]
     },
     "execution_count": 34,
     "metadata": {},
     "output_type": "execute_result"
    }
   ],
   "source": [
    "square(3)"
   ]
  },
  {
   "cell_type": "raw",
   "id": "a1f0753f-4724-409e-a6a7-6407fdde454b",
   "metadata": {},
   "source": [
    "If we replace return with yield, we turn this function into iterator but its a generator"
   ]
  },
  {
   "cell_type": "raw",
   "id": "7d7aa4ff-edbb-4a7d-a522-d6c33f9c4512",
   "metadata": {},
   "source": [
    "def square(n):\n",
    "    for i in range(n):\n",
    "        yield i**2"
   ]
  },
  {
   "cell_type": "code",
   "execution_count": 36,
   "id": "d198ac0a-72ea-4170-bc59-6e7ac3ac20d5",
   "metadata": {},
   "outputs": [
    {
     "data": {
      "text/plain": [
       "<generator object square at 0x000001BFC0A245F0>"
      ]
     },
     "execution_count": 36,
     "metadata": {},
     "output_type": "execute_result"
    }
   ],
   "source": [
    "square(3)"
   ]
  },
  {
   "cell_type": "code",
   "execution_count": 38,
   "id": "258ba40a-9519-4ccf-96ae-f297b4250dfd",
   "metadata": {},
   "outputs": [
    {
     "name": "stdout",
     "output_type": "stream",
     "text": [
      "0\n",
      "1\n",
      "4\n"
     ]
    }
   ],
   "source": [
    "for i in square(3):\n",
    "    print(i)"
   ]
  },
  {
   "cell_type": "code",
   "execution_count": 39,
   "id": "58a946d8-aa9f-4a9e-8aff-c04a615ac85e",
   "metadata": {},
   "outputs": [
    {
     "data": {
      "text/plain": [
       "<generator object square at 0x000001BFC0A24930>"
      ]
     },
     "execution_count": 39,
     "metadata": {},
     "output_type": "execute_result"
    }
   ],
   "source": [
    "a=square(3)\n",
    "a"
   ]
  },
  {
   "cell_type": "code",
   "execution_count": 40,
   "id": "384adf35-61c7-47a2-886e-9826b61a1ef8",
   "metadata": {},
   "outputs": [
    {
     "data": {
      "text/plain": [
       "0"
      ]
     },
     "execution_count": 40,
     "metadata": {},
     "output_type": "execute_result"
    }
   ],
   "source": [
    "next(a)"
   ]
  },
  {
   "cell_type": "code",
   "execution_count": 41,
   "id": "e64aaf90-6c0f-4264-8a94-bc1aef31b8e4",
   "metadata": {},
   "outputs": [
    {
     "data": {
      "text/plain": [
       "1"
      ]
     },
     "execution_count": 41,
     "metadata": {},
     "output_type": "execute_result"
    }
   ],
   "source": [
    "next(a)"
   ]
  },
  {
   "cell_type": "code",
   "execution_count": 42,
   "id": "3c222159-453d-46f2-bbad-b19c5d2c8f27",
   "metadata": {},
   "outputs": [
    {
     "data": {
      "text/plain": [
       "4"
      ]
     },
     "execution_count": 42,
     "metadata": {},
     "output_type": "execute_result"
    }
   ],
   "source": [
    "next(a)"
   ]
  },
  {
   "cell_type": "markdown",
   "id": "fed4bc72-6066-49e5-b8f1-000165de59d1",
   "metadata": {},
   "source": [
    "- To create an iterator we use iter(), to make generator we use function alon with yield keyword\n",
    "- generator saves the local variable value\n",
    "- generator in python helps us to write fast and comapact code\n",
    "- Python iterator is much more memory effecient"
   ]
  },
  {
   "cell_type": "raw",
   "id": "b3abdadd-a133-4af2-8171-263b80572183",
   "metadata": {},
   "source": [
    "Python Decorators"
   ]
  },
  {
   "cell_type": "raw",
   "id": "96557f3d-1651-4828-b880-0221a0713deb",
   "metadata": {},
   "source": [
    "function copy\n",
    "closures\n",
    "decorators"
   ]
  },
  {
   "cell_type": "code",
   "execution_count": 47,
   "id": "37d16633-72f3-4bec-a445-dec6b1b6d35b",
   "metadata": {},
   "outputs": [],
   "source": [
    "def welcome():\n",
    "    return\"Welcome\""
   ]
  },
  {
   "cell_type": "code",
   "execution_count": 48,
   "id": "64e3e8f2-5c1f-41c4-987f-c2ac599d699f",
   "metadata": {},
   "outputs": [
    {
     "data": {
      "text/plain": [
       "'Welcome'"
      ]
     },
     "execution_count": 48,
     "metadata": {},
     "output_type": "execute_result"
    }
   ],
   "source": [
    " welcome()"
   ]
  },
  {
   "cell_type": "code",
   "execution_count": 51,
   "id": "6e12cdd2-6df2-4719-8bef-859674a1e224",
   "metadata": {},
   "outputs": [],
   "source": [
    "wel=welcome()\n",
    "del welcome"
   ]
  },
  {
   "cell_type": "code",
   "execution_count": 52,
   "id": "a07e8928-fe4e-4608-a1f9-d002ba146620",
   "metadata": {},
   "outputs": [
    {
     "data": {
      "text/plain": [
       "'Welcome'"
      ]
     },
     "execution_count": 52,
     "metadata": {},
     "output_type": "execute_result"
    }
   ],
   "source": [
    "wel"
   ]
  },
  {
   "cell_type": "raw",
   "id": "7f81ce27-0b3b-4c55-99df-0bcd7ddd5254",
   "metadata": {},
   "source": [
    "so we have basically copied the output of the function into the wel variable and then deleted the function to save memory, this is function copying"
   ]
  },
  {
   "cell_type": "code",
   "execution_count": 56,
   "id": "20999e85-ebf4-4183-ba19-53016d276c15",
   "metadata": {},
   "outputs": [],
   "source": [
    "##closure\n",
    "\n",
    "def main_welcome():\n",
    "    msg=\"Hello\"\n",
    "    def sub_welcome():\n",
    "        print(\"welcome\")\n",
    "        print(msg)\n",
    "    return sub_welcome()"
   ]
  },
  {
   "cell_type": "code",
   "execution_count": 57,
   "id": "ef896ee6-bd1d-4fae-a964-a61c4530790c",
   "metadata": {},
   "outputs": [
    {
     "name": "stdout",
     "output_type": "stream",
     "text": [
      "welcome\n",
      "Hello\n"
     ]
    }
   ],
   "source": [
    "main_welcome()"
   ]
  },
  {
   "cell_type": "raw",
   "id": "6b6faa3b-1d6b-456f-9c7a-95efd503250c",
   "metadata": {},
   "source": [
    "In closures, you can write a parent function and then write a sub function inside that function"
   ]
  },
  {
   "cell_type": "raw",
   "id": "dcf02c10-0fcf-48bf-8974-49903d0af793",
   "metadata": {},
   "source": [
    "In decorators, we can give a function a parameter of function"
   ]
  },
  {
   "cell_type": "code",
   "execution_count": 60,
   "id": "a04e1350-3781-4d35-baf4-5f28c235cf25",
   "metadata": {},
   "outputs": [],
   "source": [
    "def main_welcome(func):\n",
    "    msg=\"Hello\"\n",
    "    def sub_welcome():\n",
    "        print(\"welcome\")\n",
    "        func(\"Hi\")\n",
    "        print(\"Nice\")\n",
    "    return sub_welcome()"
   ]
  },
  {
   "cell_type": "code",
   "execution_count": 61,
   "id": "40c51427-9330-4111-9d80-44a680f3ac25",
   "metadata": {},
   "outputs": [
    {
     "name": "stdout",
     "output_type": "stream",
     "text": [
      "welcome\n",
      "Hi\n",
      "Nice\n"
     ]
    }
   ],
   "source": [
    "main_welcome(print)"
   ]
  },
  {
   "cell_type": "raw",
   "id": "6a80c473-d5b6-4af6-833b-b6ca09332da6",
   "metadata": {},
   "source": [
    "Python IS Keyword"
   ]
  },
  {
   "cell_type": "code",
   "execution_count": 63,
   "id": "579521c8-a3b2-460d-a5b1-2105da95a294",
   "metadata": {},
   "outputs": [
    {
     "data": {
      "text/plain": [
       "True"
      ]
     },
     "execution_count": 63,
     "metadata": {},
     "output_type": "execute_result"
    }
   ],
   "source": [
    "lst1=[1,2,3,4]\n",
    "lst2=lst1\n",
    "lst2 is lst1"
   ]
  },
  {
   "cell_type": "code",
   "execution_count": 65,
   "id": "d374993c-40f7-4ec4-9068-82e7595e18e9",
   "metadata": {},
   "outputs": [
    {
     "data": {
      "text/plain": [
       "True"
      ]
     },
     "execution_count": 65,
     "metadata": {},
     "output_type": "execute_result"
    }
   ],
   "source": [
    "lst1 is lst2"
   ]
  },
  {
   "cell_type": "raw",
   "id": "4d691851-f72b-42f6-b4aa-4f0bb5b9e630",
   "metadata": {},
   "source": [
    "IS keyword basically checks if a variable is referrencing to another value or not, or if they have same memory location or not"
   ]
  },
  {
   "cell_type": "code",
   "execution_count": 66,
   "id": "8904e428-e4fa-41d8-a514-6ef96737b008",
   "metadata": {},
   "outputs": [
    {
     "data": {
      "text/plain": [
       "True"
      ]
     },
     "execution_count": 66,
     "metadata": {},
     "output_type": "execute_result"
    }
   ],
   "source": [
    "lst1 is lst1"
   ]
  },
  {
   "cell_type": "code",
   "execution_count": 67,
   "id": "10370e60-98c5-4117-8a6c-0dd6fee2ab79",
   "metadata": {},
   "outputs": [
    {
     "data": {
      "text/plain": [
       "True"
      ]
     },
     "execution_count": 67,
     "metadata": {},
     "output_type": "execute_result"
    }
   ],
   "source": [
    "lst2 is lst2"
   ]
  },
  {
   "cell_type": "code",
   "execution_count": null,
   "id": "ce8e26ac-7338-4182-9257-ad2fee9b850e",
   "metadata": {},
   "outputs": [],
   "source": []
  }
 ],
 "metadata": {
  "kernelspec": {
   "display_name": "Python 3 (ipykernel)",
   "language": "python",
   "name": "python3"
  },
  "language_info": {
   "codemirror_mode": {
    "name": "ipython",
    "version": 3
   },
   "file_extension": ".py",
   "mimetype": "text/x-python",
   "name": "python",
   "nbconvert_exporter": "python",
   "pygments_lexer": "ipython3",
   "version": "3.12.4"
  }
 },
 "nbformat": 4,
 "nbformat_minor": 5
}
