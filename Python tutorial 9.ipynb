{
 "cells": [
  {
   "cell_type": "raw",
   "id": "69e00038-2014-4da6-9d14-9cde4baa5e5b",
   "metadata": {},
   "source": [
    "Pyforest - lazy-import of all Python Data Science libraries\n",
    "\n",
    "pyforest lazy-imports all popular Python Data Science libraries so that they are always there when you need them. If you dont use a library, it wont be imported. When you are done with your scrip, you can export the Python code for import statements\n"
   ]
  },
  {
   "cell_type": "raw",
   "id": "24f492e8-10a4-4d29-8b3a-5e51cd226706",
   "metadata": {},
   "source": [
    "df=pd.read_csv(\"http://winterolympicsmedals.com/medals.csv\")"
   ]
  },
  {
   "cell_type": "raw",
   "id": "ccf3cff9-8a78-4ca5-a87c-8106ca10983d",
   "metadata": {},
   "source": [
    "df.head()"
   ]
  },
  {
   "cell_type": "raw",
   "id": "23a42441-1e43-4799-9b18-f01e6865a4b1",
   "metadata": {},
   "source": [
    "here we didnt have to import all the necessary libraries"
   ]
  },
  {
   "cell_type": "code",
   "execution_count": 2,
   "id": "71009fe0-11a3-412a-9faa-954effdab934",
   "metadata": {},
   "outputs": [
    {
     "name": "stdout",
     "output_type": "stream",
     "text": [
      "import pandas as pd\n"
     ]
    },
    {
     "data": {
      "text/plain": [
       "['import pandas as pd']"
      ]
     },
     "execution_count": 2,
     "metadata": {},
     "output_type": "execute_result"
    }
   ],
   "source": [
    "active_imports()"
   ]
  },
  {
   "cell_type": "raw",
   "id": "188ccecf-03eb-49c6-b7a6-6496ac3794c1",
   "metadata": {},
   "source": [
    "OOP in Python"
   ]
  },
  {
   "cell_type": "code",
   "execution_count": 3,
   "id": "17f0a373-8c7f-4d37-b6b7-96bb90cca1e7",
   "metadata": {},
   "outputs": [],
   "source": [
    "class Car:\n",
    "    pass"
   ]
  },
  {
   "cell_type": "raw",
   "id": "78785c6d-ff51-4d64-9ac2-93a4a323c782",
   "metadata": {},
   "source": [
    "this makes the class empty "
   ]
  },
  {
   "cell_type": "code",
   "execution_count": 4,
   "id": "a6d2b638-3f66-4e57-aff9-cd088d4c2780",
   "metadata": {},
   "outputs": [],
   "source": [
    "car1=Car()"
   ]
  },
  {
   "cell_type": "raw",
   "id": "14a76452-eba7-4a3d-8a6d-decb22552f25",
   "metadata": {},
   "source": [
    "Its like making dynamic object in C++ OOP"
   ]
  },
  {
   "cell_type": "code",
   "execution_count": 5,
   "id": "fe61be08-e0bc-4223-aaf5-073df4ff7ec8",
   "metadata": {},
   "outputs": [
    {
     "data": {
      "text/plain": [
       "<__main__.Car at 0x2416184e9f0>"
      ]
     },
     "execution_count": 5,
     "metadata": {},
     "output_type": "execute_result"
    }
   ],
   "source": [
    "car1"
   ]
  },
  {
   "cell_type": "code",
   "execution_count": 6,
   "id": "7da9a757-1fe9-43b8-b9a5-448bfffa6b0d",
   "metadata": {},
   "outputs": [],
   "source": [
    "car1.windows=4\n",
    "car1.door=4"
   ]
  },
  {
   "cell_type": "code",
   "execution_count": 7,
   "id": "0e798d66-8f6f-4672-b8ea-fdbd496ca043",
   "metadata": {},
   "outputs": [
    {
     "name": "stdout",
     "output_type": "stream",
     "text": [
      "4\n"
     ]
    }
   ],
   "source": [
    "print(car1.windows)"
   ]
  },
  {
   "cell_type": "code",
   "execution_count": 8,
   "id": "97938e34-3cd4-431e-a7d0-edc500301a57",
   "metadata": {},
   "outputs": [
    {
     "name": "stdout",
     "output_type": "stream",
     "text": [
      "<__main__.Car object at 0x000002416184E9F0>\n"
     ]
    }
   ],
   "source": [
    "print(car1)"
   ]
  },
  {
   "cell_type": "code",
   "execution_count": 9,
   "id": "9184cc0a-1910-43f9-bc21-02f6aa146387",
   "metadata": {},
   "outputs": [],
   "source": [
    "car2=Car()"
   ]
  },
  {
   "cell_type": "code",
   "execution_count": 10,
   "id": "5a586d1f-64fe-4a05-8bdc-4190723c7923",
   "metadata": {},
   "outputs": [],
   "source": [
    "car2.windows=5\n",
    "car2.door=10"
   ]
  },
  {
   "cell_type": "code",
   "execution_count": 11,
   "id": "70e3de65-2b97-46bc-b350-a20067a0da40",
   "metadata": {},
   "outputs": [
    {
     "data": {
      "text/plain": [
       "10"
      ]
     },
     "execution_count": 11,
     "metadata": {},
     "output_type": "execute_result"
    }
   ],
   "source": [
    "car2.door"
   ]
  },
  {
   "cell_type": "raw",
   "id": "6a6b08d1-953a-43a4-821f-99078d865ba5",
   "metadata": {},
   "source": [
    "better way to make a class"
   ]
  },
  {
   "cell_type": "code",
   "execution_count": 21,
   "id": "dae9f0a8-7644-41ef-aece-6ca44f3c1643",
   "metadata": {},
   "outputs": [],
   "source": [
    "class Car:\n",
    "    def __init__(self,window,door,enginetype):   ##this is the constructor\n",
    "        self.windows=window\n",
    "        self.doors=door\n",
    "        self.enginetype=enginetype\n",
    "    def driving(self):\n",
    "        return \"This is a {} car\".format(self.enginetype) "
   ]
  },
  {
   "cell_type": "code",
   "execution_count": 22,
   "id": "b7638b36-2eed-4dac-a6aa-e7be4c7cc73f",
   "metadata": {},
   "outputs": [],
   "source": [
    "car=Car(4,5,\"Diesel\")"
   ]
  },
  {
   "cell_type": "code",
   "execution_count": 23,
   "id": "20c18668-717e-4265-ac46-561dc6d7b83a",
   "metadata": {},
   "outputs": [
    {
     "data": {
      "text/plain": [
       "<__main__.Car at 0x24166661a00>"
      ]
     },
     "execution_count": 23,
     "metadata": {},
     "output_type": "execute_result"
    }
   ],
   "source": [
    "car"
   ]
  },
  {
   "cell_type": "code",
   "execution_count": 24,
   "id": "3a1c4e5f-a9df-4cb8-acb4-bccebe1ddc6c",
   "metadata": {},
   "outputs": [
    {
     "data": {
      "text/plain": [
       "'This is a Diesel car'"
      ]
     },
     "execution_count": 24,
     "metadata": {},
     "output_type": "execute_result"
    }
   ],
   "source": [
    "car.driving()"
   ]
  },
  {
   "cell_type": "raw",
   "id": "74222a8d-716e-437d-b5f1-393059e5ce9f",
   "metadata": {},
   "source": [
    "Python Exception Handling\n",
    "\n",
    "Exception Handling is very useful in communicating error messages to the user when the program crashes"
   ]
  },
  {
   "cell_type": "code",
   "execution_count": 38,
   "id": "a73f36a8-db83-4d5d-b4f0-afc9412536d8",
   "metadata": {},
   "outputs": [
    {
     "name": "stdout",
     "output_type": "stream",
     "text": [
      "3\n"
     ]
    }
   ],
   "source": [
    "##try else block\n",
    "a=2\n",
    "b=3\n",
    "try: \n",
    "    a=b ##code block where exception can occur\n",
    "except NameError:\n",
    "    print(\"The user have not defined the variable\")\n",
    "except TypeError:\n",
    "    print(\"The user has entered wrong type of variables\")\n",
    "except ZeroDivisionError:\n",
    "    print(\"Please provide number greater than 0\")\n",
    "except Exception as ex:  ##this exception is always written at the bottom\n",
    "    print(ex)\n",
    "else:\n",
    "    print(a)"
   ]
  },
  {
   "cell_type": "code",
   "execution_count": 39,
   "id": "e42fb6dc-af8d-4988-9b73-30c1a3873d04",
   "metadata": {},
   "outputs": [
    {
     "name": "stdout",
     "output_type": "stream",
     "text": [
      "3\n",
      "Program sucessfully executed\n"
     ]
    }
   ],
   "source": [
    "##try else finally\n",
    "a=2\n",
    "b=3\n",
    "try: \n",
    "    a=b ##code block where exception can occur\n",
    "except NameError:\n",
    "    print(\"The user have not defined the variable\")\n",
    "except TypeError:\n",
    "    print(\"The user has entered wrong type of variables\")\n",
    "except ZeroDivisionError:\n",
    "    print(\"Please provide number greater than 0\")\n",
    "except Exception as ex:  ##this exception is always written at the bottom\n",
    "    print(ex)\n",
    "else:\n",
    "    print(a)\n",
    "finally:\n",
    "    print(\"Program sucessfully executed\")"
   ]
  },
  {
   "cell_type": "raw",
   "id": "9dea4036-3149-40ce-b34f-c118d9d361d0",
   "metadata": {},
   "source": [
    "Errors could be identified & corrected during compile time; whereas Exceptions can be only identified during run time and can be handled with try catch"
   ]
  }
 ],
 "metadata": {
  "kernelspec": {
   "display_name": "Python 3 (ipykernel)",
   "language": "python",
   "name": "python3"
  },
  "language_info": {
   "codemirror_mode": {
    "name": "ipython",
    "version": 3
   },
   "file_extension": ".py",
   "mimetype": "text/x-python",
   "name": "python",
   "nbconvert_exporter": "python",
   "pygments_lexer": "ipython3",
   "version": "3.12.4"
  }
 },
 "nbformat": 4,
 "nbformat_minor": 5
}
